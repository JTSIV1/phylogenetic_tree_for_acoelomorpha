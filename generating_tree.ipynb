{
 "cells": [
  {
   "cell_type": "markdown",
   "metadata": {},
   "source": [
    "### Imports"
   ]
  },
  {
   "cell_type": "code",
   "execution_count": 46,
   "metadata": {},
   "outputs": [],
   "source": [
    "import zipfile\n",
    "import os\n",
    "from tqdm import tqdm"
   ]
  },
  {
   "cell_type": "markdown",
   "metadata": {},
   "source": [
    "### Load Data"
   ]
  },
  {
   "cell_type": "markdown",
   "metadata": {},
   "source": [
    "Unzip Data"
   ]
  },
  {
   "cell_type": "code",
   "execution_count": 47,
   "metadata": {},
   "outputs": [],
   "source": [
    "with zipfile.ZipFile('all_alignments_trimmed.zip', 'r') as zip_ref:\n",
    "    zip_ref.extractall('Data')"
   ]
  },
  {
   "cell_type": "markdown",
   "metadata": {},
   "source": [
    "Find FASTA Files"
   ]
  },
  {
   "cell_type": "code",
   "execution_count": 48,
   "metadata": {},
   "outputs": [
    {
     "name": "stdout",
     "output_type": "stream",
     "text": [
      "['OG10015_Hmm10-gb.fasta', 'OG10028_Hmm10-gb.fasta', 'OG10087_Hmm10-gb.fasta', 'OG10092_Hmm10-gb.fasta', 'OG10107_Hmm10-gb.fasta', 'OG10131_Hmm10-gb.fasta', 'OG10137_Hmm10-gb.fasta', 'OG10170_Hmm10-gb.fasta', 'OG10206_Hmm10-gb.fasta', 'OG10212_Hmm10-gb.fasta', 'OG10257_Hmm10-gb.fasta', 'OG1026_Hmm10-gb.fasta', 'OG10299_Hmm10-gb.fasta', 'OG10316_Hmm10-gb.fasta', 'OG10325_Hmm10-gb.fasta', 'OG10383_Hmm10-gb.fasta', 'OG10448_Hmm10-gb.fasta', 'OG10449_Hmm10-gb.fasta', 'OG1044_Hmm10-gb.fasta', 'OG10461_Hmm10-gb.fasta', 'OG10511_Hmm10-gb.fasta', 'OG10538_Hmm10-gb.fasta', 'OG10553_Hmm10-gb.fasta', 'OG10561_Hmm10-gb.fasta', 'OG10565_Hmm10-gb.fasta', 'OG10585_Hmm10-gb.fasta', 'OG10619_Hmm10-gb.fasta', 'OG10632_Hmm10-gb.fasta', 'OG10648_Hmm10-gb.fasta', 'OG10672_Hmm10-gb.fasta', 'OG10702_Hmm10-gb.fasta', 'OG10710_Hmm10-gb.fasta', 'OG10769_Hmm10-gb.fasta', 'OG10792_Hmm10-gb.fasta', 'OG10795_Hmm10-gb.fasta', 'OG10803_Hmm10-gb.fasta', 'OG10826_Hmm10-gb.fasta', 'OG10830_Hmm10-gb.fasta', 'OG1085_Hmm10-gb.fasta', 'OG10868_Hmm10-gb.fasta', 'OG10875_Hmm10-gb.fasta', 'OG10893_Hmm10-gb.fasta', 'OG10897_Hmm10-gb.fasta', 'OG10926_Hmm10-gb.fasta', 'OG1093_Hmm10-gb.fasta', 'OG10949_Hmm10-gb.fasta', 'OG11053_Hmm10-gb.fasta', 'OG11067_Hmm10-gb.fasta', 'OG11112_Hmm10-gb.fasta', 'OG1111_Hmm10-gb.fasta', 'OG11129_Hmm10-gb.fasta', 'OG11185_Hmm10-gb.fasta', 'OG11186_Hmm10-gb.fasta', 'OG1119_Hmm10-gb.fasta', 'OG11203_Hmm10-gb.fasta', 'OG11212_Hmm10-gb.fasta', 'OG11278_Hmm10-gb.fasta', 'OG11294_Hmm10-gb.fasta', 'OG11297_Hmm10-gb.fasta', 'OG11320_Hmm10-gb.fasta', 'OG11323_Hmm10-gb.fasta', 'OG11334_Hmm10-gb.fasta', 'OG11373_Hmm10-gb.fasta', 'OG11399_Hmm10-gb.fasta', 'OG1139_Hmm10-gb.fasta', 'OG11410_Hmm10-gb.fasta', 'OG11415_Hmm10-gb.fasta', 'OG11424_Hmm10-gb.fasta', 'OG11428_Hmm10-gb.fasta', 'OG11446_Hmm10-gb.fasta', 'OG11475_Hmm10-gb.fasta', 'OG11478_Hmm10-gb.fasta', 'OG11496_Hmm10-gb.fasta', 'OG1151_Hmm10-gb.fasta', 'OG11549_Hmm10-gb.fasta', 'OG11583_Hmm10-gb.fasta', 'OG11605_Hmm10-gb.fasta', 'OG11626_Hmm10-gb.fasta', 'OG11646_Hmm10-gb.fasta', 'OG11666_Hmm10-gb.fasta', 'OG11670_Hmm10-gb.fasta', 'OG11677_Hmm10-gb.fasta', 'OG11690_Hmm10-gb.fasta', 'OG11727_Hmm10-gb.fasta', 'OG11741_Hmm10-gb.fasta', 'OG11846_Hmm10-gb.fasta', 'OG11861_Hmm10-gb.fasta', 'OG11870_Hmm10-gb.fasta', 'OG11890_Hmm10-gb.fasta', 'OG11894_Hmm10-gb.fasta', 'OG11897_Hmm10-gb.fasta', 'OG11906_Hmm10-gb.fasta', 'OG11929_Hmm10-gb.fasta', 'OG1196_Hmm10-gb.fasta', 'OG11989_Hmm10-gb.fasta', 'OG12005_Hmm10-gb.fasta', 'OG12019_Hmm10-gb.fasta', 'OG1202_Hmm10-gb.fasta', 'OG12040_Hmm10-gb.fasta', 'OG12081_Hmm10-gb.fasta', 'OG12099_Hmm10-gb.fasta', 'OG12102_Hmm10-gb.fasta', 'OG12115_Hmm10-gb.fasta', 'OG12121_Hmm10-gb.fasta', 'OG12153_Hmm10-gb.fasta', 'OG12204_Hmm10-gb.fasta', 'OG12224_Hmm10-gb.fasta', 'OG12236_Hmm10-gb.fasta', 'OG12243_Hmm10-gb.fasta', 'OG12272_Hmm10-gb.fasta', 'OG12274_Hmm10-gb.fasta', 'OG12279_Hmm10-gb.fasta', 'OG12295_Hmm10-gb.fasta', 'OG12306_Hmm10-gb.fasta', 'OG12307_Hmm10-gb.fasta', 'OG12362_Hmm10-gb.fasta', 'OG12366_Hmm10-gb.fasta', 'OG12376_Hmm10-gb.fasta', 'OG12383_Hmm10-gb.fasta', 'OG12412_Hmm10-gb.fasta', 'OG12414_Hmm10-gb.fasta', 'OG12426_Hmm10-gb.fasta', 'OG12456_Hmm10-gb.fasta', 'OG12464_Hmm10-gb.fasta', 'OG12474_Hmm10-gb.fasta', 'OG12487_Hmm10-gb.fasta', 'OG12529_Hmm10-gb.fasta', 'OG12550_Hmm10-gb.fasta', 'OG12568_Hmm10-gb.fasta', 'OG12587_Hmm10-gb.fasta', 'OG12590_Hmm10-gb.fasta', 'OG12616_Hmm10-gb.fasta', 'OG12619_Hmm10-gb.fasta', 'OG12638_Hmm10-gb.fasta', 'OG12666_Hmm10-gb.fasta', 'OG12728_Hmm10-gb.fasta', 'OG1273_Hmm10-gb.fasta', 'OG12741_Hmm10-gb.fasta', 'OG1275_Hmm10-gb.fasta', 'OG12764_Hmm10-gb.fasta', 'OG12794_Hmm10-gb.fasta', 'OG12814_Hmm10-gb.fasta', 'OG12862_Hmm10-gb.fasta', 'OG12905_Hmm10-gb.fasta', 'OG12915_Hmm10-gb.fasta', 'OG12970_Hmm10-gb.fasta', 'OG12976_Hmm10-gb.fasta', 'OG13018_Hmm10-gb.fasta', 'OG13024_Hmm10-gb.fasta', 'OG13076_Hmm10-gb.fasta', 'OG13116_Hmm10-gb.fasta', 'OG13117_Hmm10-gb.fasta', 'OG13130_Hmm10-gb.fasta', 'OG13153_Hmm10-gb.fasta', 'OG13180_Hmm10-gb.fasta', 'OG13196_Hmm10-gb.fasta', 'OG13201_Hmm10-gb.fasta', 'OG13216_Hmm10-gb.fasta', 'OG13221_Hmm10-gb.fasta', 'OG13225_Hmm10-gb.fasta', 'OG13240_Hmm10-gb.fasta', 'OG13276_Hmm10-gb.fasta', 'OG13278_Hmm10-gb.fasta', 'OG1336_Hmm10-gb.fasta', 'OG13372_Hmm10-gb.fasta', 'OG13377_Hmm10-gb.fasta', 'OG13438_Hmm10-gb.fasta', 'OG13454_Hmm10-gb.fasta', 'OG13478_Hmm10-gb.fasta', 'OG13483_Hmm10-gb.fasta', 'OG13492_Hmm10-gb.fasta', 'OG13495_Hmm10-gb.fasta', 'OG13513_Hmm10-gb.fasta', 'OG13558_Hmm10-gb.fasta', 'OG13583_Hmm10-gb.fasta', 'OG13649_Hmm10-gb.fasta', 'OG1365_Hmm10-gb.fasta', 'OG13686_Hmm10-gb.fasta', 'OG13778_Hmm10-gb.fasta', 'OG13794_Hmm10-gb.fasta', 'OG13845_Hmm10-gb.fasta', 'OG13886_Hmm10-gb.fasta', 'OG13924_Hmm10-gb.fasta', 'OG13957_Hmm10-gb.fasta', 'OG13982_Hmm10-gb.fasta', 'OG1401_Hmm10-gb.fasta', 'OG14067_Hmm10-gb.fasta', 'OG14080_Hmm10-gb.fasta', 'OG14131_Hmm10-gb.fasta', 'OG14159_Hmm10-gb.fasta', 'OG14165_Hmm10-gb.fasta', 'OG14181_Hmm10-gb.fasta', 'OG14247_Hmm10-gb.fasta', 'OG14274_Hmm10-gb.fasta', 'OG14345_Hmm10-gb.fasta', 'OG14355_Hmm10-gb.fasta', 'OG14366_Hmm10-gb.fasta', 'OG14443_Hmm10-gb.fasta', 'OG14464_Hmm10-gb.fasta', 'OG14481_Hmm10-gb.fasta', 'OG14588_Hmm10-gb.fasta', 'OG14591_Hmm10-gb.fasta', 'OG14599_Hmm10-gb.fasta', 'OG14658_Hmm10-gb.fasta', 'OG14761_Hmm10-gb.fasta', 'OG14791_Hmm10-gb.fasta', 'OG14794_Hmm10-gb.fasta', 'OG14799_Hmm10-gb.fasta', 'OG14811_Hmm10-gb.fasta', 'OG1485_Hmm10-gb.fasta', 'OG14863_Hmm10-gb.fasta', 'OG14908_Hmm10-gb.fasta', 'OG14924_Hmm10-gb.fasta', 'OG14935_Hmm10-gb.fasta', 'OG14975_Hmm10-gb.fasta', 'OG15007_Hmm10-gb.fasta', 'OG15021_Hmm10-gb.fasta', 'OG15032_Hmm10-gb.fasta', 'OG15035_Hmm10-gb.fasta', 'OG15038_Hmm10-gb.fasta', 'OG15123_Hmm10-gb.fasta', 'OG15138_Hmm10-gb.fasta', 'OG15148_Hmm10-gb.fasta', 'OG15155_Hmm10-gb.fasta', 'OG15164_Hmm10-gb.fasta', 'OG15166_Hmm10-gb.fasta', 'OG1516_Hmm10-gb.fasta', 'OG1518_Hmm10-gb.fasta', 'OG15245_Hmm10-gb.fasta', 'OG1524_Hmm10-gb.fasta', 'OG15268_Hmm10-gb.fasta', 'OG15273_Hmm10-gb.fasta', 'OG15297_Hmm10-gb.fasta', 'OG15321_Hmm10-gb.fasta', 'OG15357_Hmm10-gb.fasta', 'OG15455_Hmm10-gb.fasta', 'OG15501_Hmm10-gb.fasta', 'OG1551_Hmm10-gb.fasta', 'OG1554_Hmm10-gb.fasta', 'OG15587_Hmm10-gb.fasta', 'OG15638_Hmm10-gb.fasta', 'OG15668_Hmm10-gb.fasta', 'OG15704_Hmm10-gb.fasta', 'OG15717_Hmm10-gb.fasta', 'OG15760_Hmm10-gb.fasta', 'OG15768_Hmm10-gb.fasta', 'OG15805_Hmm10-gb.fasta', 'OG15898_Hmm10-gb.fasta', 'OG15904_Hmm10-gb.fasta', 'OG15914_Hmm10-gb.fasta', 'OG15966_Hmm10-gb.fasta', 'OG15990_Hmm10-gb.fasta', 'OG16010_Hmm10-gb.fasta', 'OG1608_Hmm10-gb.fasta', 'OG1615_Hmm10-gb.fasta', 'OG16179_Hmm10-gb.fasta', 'OG16224_Hmm10-gb.fasta', 'OG16319_Hmm10-gb.fasta', 'OG1633_Hmm10-gb.fasta', 'OG16352_Hmm10-gb.fasta', 'OG16379_Hmm10-gb.fasta', 'OG16404_Hmm10-gb.fasta', 'OG16413_Hmm10-gb.fasta', 'OG16440_Hmm10-gb.fasta', 'OG1644_Hmm10-gb.fasta', 'OG16492_Hmm10-gb.fasta', 'OG16542_Hmm10-gb.fasta', 'OG16555_Hmm10-gb.fasta', 'OG16627_Hmm10-gb.fasta', 'OG16737_Hmm10-gb.fasta', 'OG16741_Hmm10-gb.fasta', 'OG16804_Hmm10-gb.fasta', 'OG16815_Hmm10-gb.fasta', 'OG16842_Hmm10-gb.fasta', 'OG16885_Hmm10-gb.fasta', 'OG16891_Hmm10-gb.fasta', 'OG16898_Hmm10-gb.fasta', 'OG16901_Hmm10-gb.fasta', 'OG1693_Hmm10-gb.fasta', 'OG17008_Hmm10-gb.fasta', 'OG17026_Hmm10-gb.fasta', 'OG17058_Hmm10-gb.fasta', 'OG17076_Hmm10-gb.fasta', 'OG17087_Hmm10-gb.fasta', 'OG17111_Hmm10-gb.fasta', 'OG17130_Hmm10-gb.fasta', 'OG17138_Hmm10-gb.fasta', 'OG17140_Hmm10-gb.fasta', 'OG17159_Hmm10-gb.fasta', 'OG17196_Hmm10-gb.fasta', 'OG17203_Hmm10-gb.fasta', 'OG17214_Hmm10-gb.fasta', 'OG17217_Hmm10-gb.fasta', 'OG17253_Hmm10-gb.fasta', 'OG17290_Hmm10-gb.fasta', 'OG17304_Hmm10-gb.fasta', 'OG17317_Hmm10-gb.fasta', 'OG17332_Hmm10-gb.fasta', 'OG17336_Hmm10-gb.fasta', 'OG1741_Hmm10-gb.fasta', 'OG17439_Hmm10-gb.fasta', 'OG17442_Hmm10-gb.fasta', 'OG1747_Hmm10-gb.fasta', 'OG17492_Hmm10-gb.fasta', 'OG17504_Hmm10-gb.fasta', 'OG17518_Hmm10-gb.fasta', 'OG1757_Hmm10-gb.fasta', 'OG17610_Hmm10-gb.fasta', 'OG17625_Hmm10-gb.fasta', 'OG17670_Hmm10-gb.fasta', 'OG17702_Hmm10-gb.fasta', 'OG17730_Hmm10-gb.fasta', 'OG17733_Hmm10-gb.fasta', 'OG1776_Hmm10-gb.fasta', 'OG17808_Hmm10-gb.fasta', 'OG17813_Hmm10-gb.fasta', 'OG17844_Hmm10-gb.fasta', 'OG1786_Hmm10-gb.fasta', 'OG17883_Hmm10-gb.fasta', 'OG17899_Hmm10-gb.fasta', 'OG17911_Hmm10-gb.fasta', 'OG17996_Hmm10-gb.fasta', 'OG18003_Hmm10-gb.fasta', 'OG18007_Hmm10-gb.fasta', 'OG18008_Hmm10-gb.fasta', 'OG1804_Hmm10-gb.fasta', 'OG1806_Hmm10-gb.fasta', 'OG18249_Hmm10-gb.fasta', 'OG1829_Hmm10-gb.fasta', 'OG18344_Hmm10-gb.fasta', 'OG18351_Hmm10-gb.fasta', 'OG1837_Hmm10-gb.fasta', 'OG18466_Hmm10-gb.fasta', 'OG18486_Hmm10-gb.fasta', 'OG18516_Hmm10-gb.fasta', 'OG18522_Hmm10-gb.fasta', 'OG18592_Hmm10-gb.fasta', 'OG18625_Hmm10-gb.fasta', 'OG18656_Hmm10-gb.fasta', 'OG18717_Hmm10-gb.fasta', 'OG18724_Hmm10-gb.fasta', 'OG1872_Hmm10-gb.fasta', 'OG18774_Hmm10-gb.fasta', 'OG18816_Hmm10-gb.fasta', 'OG18856_Hmm10-gb.fasta', 'OG18901_Hmm10-gb.fasta', 'OG1890_Hmm10-gb.fasta', 'OG18944_Hmm10-gb.fasta', 'OG1898_Hmm10-gb.fasta', 'OG19011_Hmm10-gb.fasta', 'OG19036_Hmm10-gb.fasta', 'OG19041_Hmm10-gb.fasta', 'OG19066_Hmm10-gb.fasta', 'OG19102_Hmm10-gb.fasta', 'OG19109_Hmm10-gb.fasta', 'OG19140_Hmm10-gb.fasta', 'OG1920_Hmm10-gb.fasta', 'OG19231_Hmm10-gb.fasta', 'OG19292_Hmm10-gb.fasta', 'OG1937_Hmm10-gb.fasta', 'OG19527_Hmm10-gb.fasta', 'OG19586_Hmm10-gb.fasta', 'OG19596_Hmm10-gb.fasta', 'OG19654_Hmm10-gb.fasta', 'OG1969_Hmm10-gb.fasta', 'OG19719_Hmm10-gb.fasta', 'OG1972_Hmm10-gb.fasta', 'OG19762_Hmm10-gb.fasta', 'OG19826_Hmm10-gb.fasta', 'OG19855_Hmm10-gb.fasta', 'OG19922_Hmm10-gb.fasta', 'OG19977_Hmm10-gb.fasta', 'OG1998_Hmm10-gb.fasta', 'OG20027_Hmm10-gb.fasta', 'OG20066_Hmm10-gb.fasta', 'OG20124_Hmm10-gb.fasta', 'OG2019_Hmm10-gb.fasta', 'OG20274_Hmm10-gb.fasta', 'OG20277_Hmm10-gb.fasta', 'OG2033_Hmm10-gb.fasta', 'OG20347_Hmm10-gb.fasta', 'OG20374_Hmm10-gb.fasta', 'OG20384_Hmm10-gb.fasta', 'OG20489_Hmm10-gb.fasta', 'OG2055_Hmm10-gb.fasta', 'OG20667_Hmm10-gb.fasta', 'OG20694_Hmm10-gb.fasta', 'OG20711_Hmm10-gb.fasta', 'OG20735_Hmm10-gb.fasta', 'OG20750_Hmm10-gb.fasta', 'OG20753_Hmm10-gb.fasta', 'OG20755_Hmm10-gb.fasta', 'OG20888_Hmm10-gb.fasta', 'OG20916_Hmm10-gb.fasta', 'OG20921_Hmm10-gb.fasta', 'OG20984_Hmm10-gb.fasta', 'OG21015_Hmm10-gb.fasta', 'OG21045_Hmm10-gb.fasta', 'OG2104_Hmm10-gb.fasta', 'OG21073_Hmm10-gb.fasta', 'OG21153_Hmm10-gb.fasta', 'OG2116_Hmm10-gb.fasta', 'OG21305_Hmm10-gb.fasta', 'OG2132_Hmm10-gb.fasta', 'OG21333_Hmm10-gb.fasta', 'OG2135_Hmm10-gb.fasta', 'OG21384_Hmm10-gb.fasta', 'OG21388_Hmm10-gb.fasta', 'OG21552_Hmm10-gb.fasta', 'OG21669_Hmm10-gb.fasta', 'OG21670_Hmm10-gb.fasta', 'OG2175_Hmm10-gb.fasta', 'OG21788_Hmm10-gb.fasta', 'OG21863_Hmm10-gb.fasta', 'OG21943_Hmm10-gb.fasta', 'OG21959_Hmm10-gb.fasta', 'OG22029_Hmm10-gb.fasta', 'OG2207_Hmm10-gb.fasta', 'OG22086_Hmm10-gb.fasta', 'OG22139_Hmm10-gb.fasta', 'OG22154_Hmm10-gb.fasta', 'OG2216_Hmm10-gb.fasta', 'OG22223_Hmm10-gb.fasta', 'OG22278_Hmm10-gb.fasta', 'OG2229_Hmm10-gb.fasta', 'OG22330_Hmm10-gb.fasta', 'OG22399_Hmm10-gb.fasta', 'OG22408_Hmm10-gb.fasta', 'OG22415_Hmm10-gb.fasta', 'OG22505_Hmm10-gb.fasta', 'OG22512_Hmm10-gb.fasta', 'OG22521_Hmm10-gb.fasta', 'OG22523_Hmm10-gb.fasta', 'OG22540_Hmm10-gb.fasta', 'OG22608_Hmm10-gb.fasta', 'OG22652_Hmm10-gb.fasta', 'OG22713_Hmm10-gb.fasta', 'OG22746_Hmm10-gb.fasta', 'OG22780_Hmm10-gb.fasta', 'OG22783_Hmm10-gb.fasta', 'OG22864_Hmm10-gb.fasta', 'OG2286_Hmm10-gb.fasta', 'OG22927_Hmm10-gb.fasta', 'OG2292_Hmm10-gb.fasta', 'OG23032_Hmm10-gb.fasta', 'OG23043_Hmm10-gb.fasta', 'OG23223_Hmm10-gb.fasta', 'OG23261_Hmm10-gb.fasta', 'OG23277_Hmm10-gb.fasta', 'OG23305_Hmm10-gb.fasta', 'OG2330_Hmm10-gb.fasta', 'OG2333_Hmm10-gb.fasta', 'OG23347_Hmm10-gb.fasta', 'OG23356_Hmm10-gb.fasta', 'OG23426_Hmm10-gb.fasta', 'OG2343_Hmm10-gb.fasta', 'OG23450_Hmm10-gb.fasta', 'OG23453_Hmm10-gb.fasta', 'OG2345_Hmm10-gb.fasta', 'OG23473_Hmm10-gb.fasta', 'OG23548_Hmm10-gb.fasta', 'OG23553_Hmm10-gb.fasta', 'OG2365_Hmm10-gb.fasta', 'OG23678_Hmm10-gb.fasta', 'OG23715_Hmm10-gb.fasta', 'OG2371_Hmm10-gb.fasta', 'OG23733_Hmm10-gb.fasta', 'OG23756_Hmm10-gb.fasta', 'OG23802_Hmm10-gb.fasta', 'OG23879_Hmm10-gb.fasta', 'OG23907_Hmm10-gb.fasta', 'OG23952_Hmm10-gb.fasta', 'OG24120_Hmm10-gb.fasta', 'OG24155_Hmm10-gb.fasta', 'OG24209_Hmm10-gb.fasta', 'OG24226_Hmm10-gb.fasta', 'OG24237_Hmm10-gb.fasta', 'OG24276_Hmm10-gb.fasta', 'OG24290_Hmm10-gb.fasta', 'OG24301_Hmm10-gb.fasta', 'OG24334_Hmm10-gb.fasta', 'OG24389_Hmm10-gb.fasta', 'OG24400_Hmm10-gb.fasta', 'OG24413_Hmm10-gb.fasta', 'OG24430_Hmm10-gb.fasta', 'OG24492_Hmm10-gb.fasta', 'OG2451_Hmm10-gb.fasta', 'OG24550_Hmm10-gb.fasta', 'OG24637_Hmm10-gb.fasta', 'OG24651_Hmm10-gb.fasta', 'OG24672_Hmm10-gb.fasta', 'OG24731_Hmm10-gb.fasta', 'OG24741_Hmm10-gb.fasta', 'OG24764_Hmm10-gb.fasta', 'OG24876_Hmm10-gb.fasta', 'OG24885_Hmm10-gb.fasta', 'OG24886_Hmm10-gb.fasta', 'OG24939_Hmm10-gb.fasta', 'OG24947_Hmm10-gb.fasta', 'OG2498_Hmm10-gb.fasta', 'OG25022_Hmm10-gb.fasta', 'OG25086_Hmm10-gb.fasta', 'OG2517_Hmm10-gb.fasta', 'OG2519_Hmm10-gb.fasta', 'OG25297_Hmm10-gb.fasta', 'OG25299_Hmm10-gb.fasta', 'OG25344_Hmm10-gb.fasta', 'OG2549_Hmm10-gb.fasta', 'OG25649_Hmm10-gb.fasta', 'OG25653_Hmm10-gb.fasta', 'OG25691_Hmm10-gb.fasta', 'OG2575_Hmm10-gb.fasta', 'OG25762_Hmm10-gb.fasta', 'OG25773_Hmm10-gb.fasta', 'OG25936_Hmm10-gb.fasta', 'OG26022_Hmm10-gb.fasta', 'OG26028_Hmm10-gb.fasta', 'OG26081_Hmm10-gb.fasta', 'OG26106_Hmm10-gb.fasta', 'OG2611_Hmm10-gb.fasta', 'OG2613_Hmm10-gb.fasta', 'OG26187_Hmm10-gb.fasta', 'OG26202_Hmm10-gb.fasta', 'OG26206_Hmm10-gb.fasta', 'OG26241_Hmm10-gb.fasta', 'OG26313_Hmm10-gb.fasta', 'OG26349_Hmm10-gb.fasta', 'OG26407_Hmm10-gb.fasta', 'OG26448_Hmm10-gb.fasta', 'OG26557_Hmm10-gb.fasta', 'OG2657_Hmm10-gb.fasta', 'OG26588_Hmm10-gb.fasta', 'OG26688_Hmm10-gb.fasta', 'OG26706_Hmm10-gb.fasta', 'OG2675_Hmm10-gb.fasta', 'OG26788_Hmm10-gb.fasta', 'OG26798_Hmm10-gb.fasta', 'OG26823_Hmm10-gb.fasta', 'OG26859_Hmm10-gb.fasta', 'OG26918_Hmm10-gb.fasta', 'OG26991_Hmm10-gb.fasta', 'OG27013_Hmm10-gb.fasta', 'OG2708_Hmm10-gb.fasta', 'OG27098_Hmm10-gb.fasta', 'OG27151_Hmm10-gb.fasta', 'OG27156_Hmm10-gb.fasta', 'OG27200_Hmm10-gb.fasta', 'OG27342_Hmm10-gb.fasta', 'OG27372_Hmm10-gb.fasta', 'OG27376_Hmm10-gb.fasta', 'OG2742_Hmm10-gb.fasta', 'OG27453_Hmm10-gb.fasta', 'OG27475_Hmm10-gb.fasta', 'OG27503_Hmm10-gb.fasta', 'OG27580_Hmm10-gb.fasta', 'OG27610_Hmm10-gb.fasta', 'OG27683_Hmm10-gb.fasta', 'OG2768_Hmm10-gb.fasta', 'OG2771_Hmm10-gb.fasta', 'OG27756_Hmm10-gb.fasta', 'OG27856_Hmm10-gb.fasta', 'OG2785_Hmm10-gb.fasta', 'OG27901_Hmm10-gb.fasta', 'OG27954_Hmm10-gb.fasta', 'OG28045_Hmm10-gb.fasta', 'OG28121_Hmm10-gb.fasta', 'OG28137_Hmm10-gb.fasta', 'OG28179_Hmm10-gb.fasta', 'OG2818_Hmm10-gb.fasta', 'OG28267_Hmm10-gb.fasta', 'OG28328_Hmm10-gb.fasta', 'OG2841_Hmm10-gb.fasta', 'OG28427_Hmm10-gb.fasta', 'OG2853_Hmm10-gb.fasta', 'OG2855_Hmm10-gb.fasta', 'OG2857_Hmm10-gb.fasta', 'OG28632_Hmm10-gb.fasta', 'OG28638_Hmm10-gb.fasta', 'OG28718_Hmm10-gb.fasta', 'OG28729_Hmm10-gb.fasta', 'OG2884_Hmm10-gb.fasta', 'OG28859_Hmm10-gb.fasta', 'OG28961_Hmm10-gb.fasta', 'OG28984_Hmm10-gb.fasta', 'OG29013_Hmm10-gb.fasta', 'OG29092_Hmm10-gb.fasta', 'OG29102_Hmm10-gb.fasta', 'OG29217_Hmm10-gb.fasta', 'OG29222_Hmm10-gb.fasta', 'OG29237_Hmm10-gb.fasta', 'OG29311_Hmm10-gb.fasta', 'OG29336_Hmm10-gb.fasta', 'OG29376_Hmm10-gb.fasta', 'OG29411_Hmm10-gb.fasta', 'OG29431_Hmm10-gb.fasta', 'OG29452_Hmm10-gb.fasta', 'OG29479_Hmm10-gb.fasta', 'OG29518_Hmm10-gb.fasta', 'OG29648_Hmm10-gb.fasta', 'OG29787_Hmm10-gb.fasta', 'OG29801_Hmm10-gb.fasta', 'OG29881_Hmm10-gb.fasta', 'OG29883_Hmm10-gb.fasta', 'OG2992_Hmm10-gb.fasta', 'OG29968_Hmm10-gb.fasta', 'OG29969_Hmm10-gb.fasta', 'OG30005_Hmm10-gb.fasta', 'OG30016_Hmm10-gb.fasta', 'OG3003_Hmm10-gb.fasta', 'OG30043_Hmm10-gb.fasta', 'OG30099_Hmm10-gb.fasta', 'OG30107_Hmm10-gb.fasta', 'OG30186_Hmm10-gb.fasta', 'OG30233_Hmm10-gb.fasta', 'OG3030_Hmm10-gb.fasta', 'OG30313_Hmm10-gb.fasta', 'OG30334_Hmm10-gb.fasta', 'OG30344_Hmm10-gb.fasta', 'OG30462_Hmm10-gb.fasta', 'OG30486_Hmm10-gb.fasta', 'OG30528_Hmm10-gb.fasta', 'OG3057_Hmm10-gb.fasta', 'OG3058_Hmm10-gb.fasta', 'OG30617_Hmm10-gb.fasta', 'OG30618_Hmm10-gb.fasta', 'OG30633_Hmm10-gb.fasta', 'OG30641_Hmm10-gb.fasta', 'OG30643_Hmm10-gb.fasta', 'OG30726_Hmm10-gb.fasta', 'OG3082_Hmm10-gb.fasta', 'OG30935_Hmm10-gb.fasta', 'OG31026_Hmm10-gb.fasta', 'OG3105_Hmm10-gb.fasta', 'OG31106_Hmm10-gb.fasta', 'OG31123_Hmm10-gb.fasta', 'OG31171_Hmm10-gb.fasta', 'OG31194_Hmm10-gb.fasta', 'OG31206_Hmm10-gb.fasta', 'OG3126_Hmm10-gb.fasta', 'OG31379_Hmm10-gb.fasta', 'OG3145_Hmm10-gb.fasta', 'OG3150_Hmm10-gb.fasta', 'OG31579_Hmm10-gb.fasta', 'OG31587_Hmm10-gb.fasta', 'OG3189_Hmm10-gb.fasta', 'OG31950_Hmm10-gb.fasta', 'OG3200_Hmm10-gb.fasta', 'OG32013_Hmm10-gb.fasta', 'OG3202_Hmm10-gb.fasta', 'OG32112_Hmm10-gb.fasta', 'OG32150_Hmm10-gb.fasta', 'OG32269_Hmm10-gb.fasta', 'OG32437_Hmm10-gb.fasta', 'OG3246_Hmm10-gb.fasta', 'OG32618_Hmm10-gb.fasta', 'OG3270_Hmm10-gb.fasta', 'OG32723_Hmm10-gb.fasta', 'OG3272_Hmm10-gb.fasta', 'OG3280_Hmm10-gb.fasta', 'OG32837_Hmm10-gb.fasta', 'OG3291_Hmm10-gb.fasta', 'OG3295_Hmm10-gb.fasta', 'OG3307_Hmm10-gb.fasta', 'OG33112_Hmm10-gb.fasta', 'OG33217_Hmm10-gb.fasta', 'OG33333_Hmm10-gb.fasta', 'OG33379_Hmm10-gb.fasta', 'OG33535_Hmm10-gb.fasta', 'OG33556_Hmm10-gb.fasta', 'OG33581_Hmm10-gb.fasta', 'OG3359_Hmm10-gb.fasta', 'OG33901_Hmm10-gb.fasta', 'OG34005_Hmm10-gb.fasta', 'OG3418_Hmm10-gb.fasta', 'OG3425_Hmm10-gb.fasta', 'OG3430_Hmm10-gb.fasta', 'OG34345_Hmm10-gb.fasta', 'OG34384_Hmm10-gb.fasta', 'OG3438_Hmm10-gb.fasta', 'OG34554_Hmm10-gb.fasta', 'OG34624_Hmm10-gb.fasta', 'OG34646_Hmm10-gb.fasta', 'OG34802_Hmm10-gb.fasta', 'OG34901_Hmm10-gb.fasta', 'OG34938_Hmm10-gb.fasta', 'OG34965_Hmm10-gb.fasta', 'OG3510_Hmm10-gb.fasta', 'OG35151_Hmm10-gb.fasta', 'OG35432_Hmm10-gb.fasta', 'OG3548_Hmm10-gb.fasta', 'OG35491_Hmm10-gb.fasta', 'OG35653_Hmm10-gb.fasta', 'OG35657_Hmm10-gb.fasta', 'OG35670_Hmm10-gb.fasta', 'OG3567_Hmm10-gb.fasta', 'OG35695_Hmm10-gb.fasta', 'OG35705_Hmm10-gb.fasta', 'OG35799_Hmm10-gb.fasta', 'OG35835_Hmm10-gb.fasta', 'OG3585_Hmm10-gb.fasta', 'OG3588_Hmm10-gb.fasta', 'OG35938_Hmm10-gb.fasta', 'OG36062_Hmm10-gb.fasta', 'OG36113_Hmm10-gb.fasta', 'OG36266_Hmm10-gb.fasta', 'OG3627_Hmm10-gb.fasta', 'OG36347_Hmm10-gb.fasta', 'OG36422_Hmm10-gb.fasta', 'OG3649_Hmm10-gb.fasta', 'OG36608_Hmm10-gb.fasta', 'OG3660_Hmm10-gb.fasta', 'OG3662_Hmm10-gb.fasta', 'OG3673_Hmm10-gb.fasta', 'OG3690_Hmm10-gb.fasta', 'OG36992_Hmm10-gb.fasta', 'OG37063_Hmm10-gb.fasta', 'OG3709_Hmm10-gb.fasta', 'OG3712_Hmm10-gb.fasta', 'OG37153_Hmm10-gb.fasta', 'OG37159_Hmm10-gb.fasta', 'OG3717_Hmm10-gb.fasta', 'OG3719_Hmm10-gb.fasta', 'OG37201_Hmm10-gb.fasta', 'OG37278_Hmm10-gb.fasta', 'OG3728_Hmm10-gb.fasta', 'OG3736_Hmm10-gb.fasta', 'OG37623_Hmm10-gb.fasta', 'OG3787_Hmm10-gb.fasta', 'OG3792_Hmm10-gb.fasta', 'OG3799_Hmm10-gb.fasta', 'OG38030_Hmm10-gb.fasta', 'OG38131_Hmm10-gb.fasta', 'OG3822_Hmm10-gb.fasta', 'OG3848_Hmm10-gb.fasta', 'OG3854_Hmm10-gb.fasta', 'OG3859_Hmm10-gb.fasta', 'OG38734_Hmm10-gb.fasta', 'OG38832_Hmm10-gb.fasta', 'OG38859_Hmm10-gb.fasta', 'OG3886_Hmm10-gb.fasta', 'OG3891_Hmm10-gb.fasta', 'OG38938_Hmm10-gb.fasta', 'OG3894_Hmm10-gb.fasta', 'OG38981_Hmm10-gb.fasta', 'OG38983_Hmm10-gb.fasta', 'OG39001_Hmm10-gb.fasta', 'OG3901_Hmm10-gb.fasta', 'OG3920_Hmm10-gb.fasta', 'OG39237_Hmm10-gb.fasta', 'OG3946_Hmm10-gb.fasta', 'OG39608_Hmm10-gb.fasta', 'OG3967_Hmm10-gb.fasta', 'OG39737_Hmm10-gb.fasta', 'OG3975_Hmm10-gb.fasta', 'OG3987_Hmm10-gb.fasta', 'OG39994_Hmm10-gb.fasta', 'OG40051_Hmm10-gb.fasta', 'OG40102_Hmm10-gb.fasta', 'OG40263_Hmm10-gb.fasta', 'OG40309_Hmm10-gb.fasta', 'OG40397_Hmm10-gb.fasta', 'OG4042_Hmm10-gb.fasta', 'OG4050_Hmm10-gb.fasta', 'OG40623_Hmm10-gb.fasta', 'OG4096_Hmm10-gb.fasta', 'OG4098_Hmm10-gb.fasta', 'OG4110_Hmm10-gb.fasta', 'OG4115_Hmm10-gb.fasta', 'OG41229_Hmm10-gb.fasta', 'OG4146_Hmm10-gb.fasta', 'OG41476_Hmm10-gb.fasta', 'OG41668_Hmm10-gb.fasta', 'OG4176_Hmm10-gb.fasta', 'OG4187_Hmm10-gb.fasta', 'OG41954_Hmm10-gb.fasta', 'OG4208_Hmm10-gb.fasta', 'OG4219_Hmm10-gb.fasta', 'OG4221_Hmm10-gb.fasta', 'OG4226_Hmm10-gb.fasta', 'OG42423_Hmm10-gb.fasta', 'OG4242_Hmm10-gb.fasta', 'OG4243_Hmm10-gb.fasta', 'OG4246_Hmm10-gb.fasta', 'OG42665_Hmm10-gb.fasta', 'OG4267_Hmm10-gb.fasta', 'OG42725_Hmm10-gb.fasta', 'OG42729_Hmm10-gb.fasta', 'OG4289_Hmm10-gb.fasta', 'OG42964_Hmm10-gb.fasta', 'OG4299_Hmm10-gb.fasta', 'OG4312_Hmm10-gb.fasta', 'OG43528_Hmm10-gb.fasta', 'OG43542_Hmm10-gb.fasta', 'OG4379_Hmm10-gb.fasta', 'OG4399_Hmm10-gb.fasta', 'OG44016_Hmm10-gb.fasta', 'OG4407_Hmm10-gb.fasta', 'OG4411_Hmm10-gb.fasta', 'OG4420_Hmm10-gb.fasta', 'OG44484_Hmm10-gb.fasta', 'OG4449_Hmm10-gb.fasta', 'OG44504_Hmm10-gb.fasta', 'OG44580_Hmm10-gb.fasta', 'OG4458_Hmm10-gb.fasta', 'OG4476_Hmm10-gb.fasta', 'OG4478_Hmm10-gb.fasta', 'OG4483_Hmm10-gb.fasta', 'OG4500_Hmm10-gb.fasta', 'OG4524_Hmm10-gb.fasta', 'OG45272_Hmm10-gb.fasta', 'OG45311_Hmm10-gb.fasta', 'OG4533_Hmm10-gb.fasta', 'OG4542_Hmm10-gb.fasta', 'OG45447_Hmm10-gb.fasta', 'OG45534_Hmm10-gb.fasta', 'OG4553_Hmm10-gb.fasta', 'OG4555_Hmm10-gb.fasta', 'OG45670_Hmm10-gb.fasta', 'OG45717_Hmm10-gb.fasta', 'OG4580_Hmm10-gb.fasta', 'OG45818_Hmm10-gb.fasta', 'OG4593_Hmm10-gb.fasta', 'OG4595_Hmm10-gb.fasta', 'OG4600_Hmm10-gb.fasta', 'OG4607_Hmm10-gb.fasta', 'OG4617_Hmm10-gb.fasta', 'OG4647_Hmm10-gb.fasta', 'OG4655_Hmm10-gb.fasta', 'OG46603_Hmm10-gb.fasta', 'OG46910_Hmm10-gb.fasta', 'OG4698_Hmm10-gb.fasta', 'OG4708_Hmm10-gb.fasta', 'OG4711_Hmm10-gb.fasta', 'OG47127_Hmm10-gb.fasta', 'OG47137_Hmm10-gb.fasta', 'OG47298_Hmm10-gb.fasta', 'OG4731_Hmm10-gb.fasta', 'OG4738_Hmm10-gb.fasta', 'OG4749_Hmm10-gb.fasta', 'OG47526_Hmm10-gb.fasta', 'OG47546_Hmm10-gb.fasta', 'OG4757_Hmm10-gb.fasta', 'OG4791_Hmm10-gb.fasta', 'OG4792_Hmm10-gb.fasta', 'OG48186_Hmm10-gb.fasta', 'OG4820_Hmm10-gb.fasta', 'OG4832_Hmm10-gb.fasta', 'OG48384_Hmm10-gb.fasta', 'OG4844_Hmm10-gb.fasta', 'OG4848_Hmm10-gb.fasta', 'OG48818_Hmm10-gb.fasta', 'OG48821_Hmm10-gb.fasta', 'OG4900_Hmm10-gb.fasta', 'OG49100_Hmm10-gb.fasta', 'OG4931_Hmm10-gb.fasta', 'OG4943_Hmm10-gb.fasta', 'OG4947_Hmm10-gb.fasta', 'OG49600_Hmm10-gb.fasta', 'OG4978_Hmm10-gb.fasta', 'OG49849_Hmm10-gb.fasta', 'OG49980_Hmm10-gb.fasta', 'OG5002_Hmm10-gb.fasta', 'OG5026_Hmm10-gb.fasta', 'OG5027_Hmm10-gb.fasta', 'OG5039_Hmm10-gb.fasta', 'OG50453_Hmm10-gb.fasta', 'OG50530_Hmm10-gb.fasta', 'OG5066_Hmm10-gb.fasta', 'OG5078_Hmm10-gb.fasta', 'OG50918_Hmm10-gb.fasta', 'OG50920_Hmm10-gb.fasta', 'OG51003_Hmm10-gb.fasta', 'OG5137_Hmm10-gb.fasta', 'OG5144_Hmm10-gb.fasta', 'OG5145_Hmm10-gb.fasta', 'OG5148_Hmm10-gb.fasta', 'OG5192_Hmm10-gb.fasta', 'OG51935_Hmm10-gb.fasta', 'OG5194_Hmm10-gb.fasta', 'OG5207_Hmm10-gb.fasta', 'OG52311_Hmm10-gb.fasta', 'OG52493_Hmm10-gb.fasta', 'OG52641_Hmm10-gb.fasta', 'OG5292_Hmm10-gb.fasta', 'OG5294_Hmm10-gb.fasta', 'OG5309_Hmm10-gb.fasta', 'OG53109_Hmm10-gb.fasta', 'OG53523_Hmm10-gb.fasta', 'OG5358_Hmm10-gb.fasta', 'OG5362_Hmm10-gb.fasta', 'OG5365_Hmm10-gb.fasta', 'OG5369_Hmm10-gb.fasta', 'OG53850_Hmm10-gb.fasta', 'OG5390_Hmm10-gb.fasta', 'OG5408_Hmm10-gb.fasta', 'OG5410_Hmm10-gb.fasta', 'OG5418_Hmm10-gb.fasta', 'OG5465_Hmm10-gb.fasta', 'OG5468_Hmm10-gb.fasta', 'OG5473_Hmm10-gb.fasta', 'OG5511_Hmm10-gb.fasta', 'OG55180_Hmm10-gb.fasta', 'OG5525_Hmm10-gb.fasta', 'OG5536_Hmm10-gb.fasta', 'OG5546_Hmm10-gb.fasta', 'OG55499_Hmm10-gb.fasta', 'OG5565_Hmm10-gb.fasta', 'OG55782_Hmm10-gb.fasta', 'OG5582_Hmm10-gb.fasta', 'OG5584_Hmm10-gb.fasta', 'OG5605_Hmm10-gb.fasta', 'OG5645_Hmm10-gb.fasta', 'OG56464_Hmm10-gb.fasta', 'OG5649_Hmm10-gb.fasta', 'OG5652_Hmm10-gb.fasta', 'OG56830_Hmm10-gb.fasta', 'OG5685_Hmm10-gb.fasta', 'OG56914_Hmm10-gb.fasta', 'OG5696_Hmm10-gb.fasta', 'OG56996_Hmm10-gb.fasta', 'OG57017_Hmm10-gb.fasta', 'OG5707_Hmm10-gb.fasta', 'OG5718_Hmm10-gb.fasta', 'OG572_Hmm10-gb.fasta', 'OG57344_Hmm10-gb.fasta', 'OG5747_Hmm10-gb.fasta', 'OG58080_Hmm10-gb.fasta', 'OG581_Hmm10-gb.fasta', 'OG5823_Hmm10-gb.fasta', 'OG5829_Hmm10-gb.fasta', 'OG58338_Hmm10-gb.fasta', 'OG58389_Hmm10-gb.fasta', 'OG5844_Hmm10-gb.fasta', 'OG58489_Hmm10-gb.fasta', 'OG58509_Hmm10-gb.fasta', 'OG58677_Hmm10-gb.fasta', 'OG5869_Hmm10-gb.fasta', 'OG58710_Hmm10-gb.fasta', 'OG5917_Hmm10-gb.fasta', 'OG5931_Hmm10-gb.fasta', 'OG5936_Hmm10-gb.fasta', 'OG5979_Hmm10-gb.fasta', 'OG5981_Hmm10-gb.fasta', 'OG59897_Hmm10-gb.fasta', 'OG5992_Hmm10-gb.fasta', 'OG59984_Hmm10-gb.fasta', 'OG60077_Hmm10-gb.fasta', 'OG6008_Hmm10-gb.fasta', 'OG6010_Hmm10-gb.fasta', 'OG60152_Hmm10-gb.fasta', 'OG6021_Hmm10-gb.fasta', 'OG6022_Hmm10-gb.fasta', 'OG6024_Hmm10-gb.fasta', 'OG6055_Hmm10-gb.fasta', 'OG6060_Hmm10-gb.fasta', 'OG60853_Hmm10-gb.fasta', 'OG6115_Hmm10-gb.fasta', 'OG6123_Hmm10-gb.fasta', 'OG61450_Hmm10-gb.fasta', 'OG6149_Hmm10-gb.fasta', 'OG61540_Hmm10-gb.fasta', 'OG6185_Hmm10-gb.fasta', 'OG6198_Hmm10-gb.fasta', 'OG6231_Hmm10-gb.fasta', 'OG6261_Hmm10-gb.fasta', 'OG6275_Hmm10-gb.fasta', 'OG6284_Hmm10-gb.fasta', 'OG6304_Hmm10-gb.fasta', 'OG6309_Hmm10-gb.fasta', 'OG6314_Hmm10-gb.fasta', 'OG6321_Hmm10-gb.fasta', 'OG63318_Hmm10-gb.fasta', 'OG6338_Hmm10-gb.fasta', 'OG6347_Hmm10-gb.fasta', 'OG639_Hmm10-gb.fasta', 'OG6418_Hmm10-gb.fasta', 'OG6419_Hmm10-gb.fasta', 'OG6424_Hmm10-gb.fasta', 'OG6446_Hmm10-gb.fasta', 'OG64475_Hmm10-gb.fasta', 'OG6471_Hmm10-gb.fasta', 'OG6478_Hmm10-gb.fasta', 'OG6485_Hmm10-gb.fasta', 'OG6495_Hmm10-gb.fasta', 'OG6533_Hmm10-gb.fasta', 'OG6544_Hmm10-gb.fasta', 'OG6562_Hmm10-gb.fasta', 'OG6566_Hmm10-gb.fasta', 'OG6574_Hmm10-gb.fasta', 'OG6593_Hmm10-gb.fasta', 'OG6612_Hmm10-gb.fasta', 'OG6624_Hmm10-gb.fasta', 'OG6626_Hmm10-gb.fasta', 'OG6635_Hmm10-gb.fasta', 'OG6652_Hmm10-gb.fasta', 'OG6660_Hmm10-gb.fasta', 'OG66794_Hmm10-gb.fasta', 'OG6691_Hmm10-gb.fasta', 'OG6706_Hmm10-gb.fasta', 'OG6707_Hmm10-gb.fasta', 'OG6708_Hmm10-gb.fasta', 'OG6720_Hmm10-gb.fasta', 'OG6742_Hmm10-gb.fasta', 'OG6744_Hmm10-gb.fasta', 'OG6758_Hmm10-gb.fasta', 'OG67812_Hmm10-gb.fasta', 'OG6796_Hmm10-gb.fasta', 'OG6800_Hmm10-gb.fasta', 'OG684_Hmm10-gb.fasta', 'OG6854_Hmm10-gb.fasta', 'OG6857_Hmm10-gb.fasta', 'OG6860_Hmm10-gb.fasta', 'OG6886_Hmm10-gb.fasta', 'OG6895_Hmm10-gb.fasta', 'OG6937_Hmm10-gb.fasta', 'OG6946_Hmm10-gb.fasta', 'OG6960_Hmm10-gb.fasta', 'OG6978_Hmm10-gb.fasta', 'OG6984_Hmm10-gb.fasta', 'OG698_Hmm10-gb.fasta', 'OG7013_Hmm10-gb.fasta', 'OG7032_Hmm10-gb.fasta', 'OG7034_Hmm10-gb.fasta', 'OG7081_Hmm10-gb.fasta', 'OG7085_Hmm10-gb.fasta', 'OG7119_Hmm10-gb.fasta', 'OG7131_Hmm10-gb.fasta', 'OG7146_Hmm10-gb.fasta', 'OG7151_Hmm10-gb.fasta', 'OG7192_Hmm10-gb.fasta', 'OG72084_Hmm10-gb.fasta', 'OG7227_Hmm10-gb.fasta', 'OG72554_Hmm10-gb.fasta', 'OG7289_Hmm10-gb.fasta', 'OG7292_Hmm10-gb.fasta', 'OG73119_Hmm10-gb.fasta', 'OG7331_Hmm10-gb.fasta', 'OG7348_Hmm10-gb.fasta', 'OG7363_Hmm10-gb.fasta', 'OG7392_Hmm10-gb.fasta', 'OG7418_Hmm10-gb.fasta', 'OG7421_Hmm10-gb.fasta', 'OG7426_Hmm10-gb.fasta', 'OG7445_Hmm10-gb.fasta', 'OG7459_Hmm10-gb.fasta', 'OG7473_Hmm10-gb.fasta', 'OG7481_Hmm10-gb.fasta', 'OG7512_Hmm10-gb.fasta', 'OG751_Hmm10-gb.fasta', 'OG7543_Hmm10-gb.fasta', 'OG754_Hmm10-gb.fasta', 'OG7555_Hmm10-gb.fasta', 'OG756_Hmm10-gb.fasta', 'OG7599_Hmm10-gb.fasta', 'OG7620_Hmm10-gb.fasta', 'OG7642_Hmm10-gb.fasta', 'OG7655_Hmm10-gb.fasta', 'OG7657_Hmm10-gb.fasta', 'OG7681_Hmm10-gb.fasta', 'OG7702_Hmm10-gb.fasta', 'OG7710_Hmm10-gb.fasta', 'OG7760_Hmm10-gb.fasta', 'OG7764_Hmm10-gb.fasta', 'OG7779_Hmm10-gb.fasta', 'OG7819_Hmm10-gb.fasta', 'OG7822_Hmm10-gb.fasta', 'OG7868_Hmm10-gb.fasta', 'OG7880_Hmm10-gb.fasta', 'OG7928_Hmm10-gb.fasta', 'OG7946_Hmm10-gb.fasta', 'OG796_Hmm10-gb.fasta', 'OG8006_Hmm10-gb.fasta', 'OG80104_Hmm10-gb.fasta', 'OG8019_Hmm10-gb.fasta', 'OG80232_Hmm10-gb.fasta', 'OG8041_Hmm10-gb.fasta', 'OG8053_Hmm10-gb.fasta', 'OG8084_Hmm10-gb.fasta', 'OG8137_Hmm10-gb.fasta', 'OG8149_Hmm10-gb.fasta', 'OG8159_Hmm10-gb.fasta', 'OG8163_Hmm10-gb.fasta', 'OG8213_Hmm10-gb.fasta', 'OG8225_Hmm10-gb.fasta', 'OG8275_Hmm10-gb.fasta', 'OG827_Hmm10-gb.fasta', 'OG8280_Hmm10-gb.fasta', 'OG8290_Hmm10-gb.fasta', 'OG8291_Hmm10-gb.fasta', 'OG8338_Hmm10-gb.fasta', 'OG8368_Hmm10-gb.fasta', 'OG8416_Hmm10-gb.fasta', 'OG8431_Hmm10-gb.fasta', 'OG8461_Hmm10-gb.fasta', 'OG8529_Hmm10-gb.fasta', 'OG8546_Hmm10-gb.fasta', 'OG8570_Hmm10-gb.fasta', 'OG8599_Hmm10-gb.fasta', 'OG8655_Hmm10-gb.fasta', 'OG8706_Hmm10-gb.fasta', 'OG870_Hmm10-gb.fasta', 'OG8712_Hmm10-gb.fasta', 'OG8714_Hmm10-gb.fasta', 'OG8767_Hmm10-gb.fasta', 'OG8775_Hmm10-gb.fasta', 'OG8780_Hmm10-gb.fasta', 'OG8813_Hmm10-gb.fasta', 'OG8850_Hmm10-gb.fasta', 'OG8856_Hmm10-gb.fasta', 'OG8888_Hmm10-gb.fasta', 'OG8891_Hmm10-gb.fasta', 'OG8894_Hmm10-gb.fasta', 'OG8932_Hmm10-gb.fasta', 'OG8935_Hmm10-gb.fasta', 'OG8957_Hmm10-gb.fasta', 'OG8969_Hmm10-gb.fasta', 'OG8970_Hmm10-gb.fasta', 'OG8981_Hmm10-gb.fasta', 'OG898_Hmm10-gb.fasta', 'OG8994_Hmm10-gb.fasta', 'OG8998_Hmm10-gb.fasta', 'OG900_Hmm10-gb.fasta', 'OG901_Hmm10-gb.fasta', 'OG9035_Hmm10-gb.fasta', 'OG9057_Hmm10-gb.fasta', 'OG913_Hmm10-gb.fasta', 'OG914_Hmm10-gb.fasta', 'OG9220_Hmm10-gb.fasta', 'OG9234_Hmm10-gb.fasta', 'OG9276_Hmm10-gb.fasta', 'OG9279_Hmm10-gb.fasta', 'OG9309_Hmm10-gb.fasta', 'OG9318_Hmm10-gb.fasta', 'OG9329_Hmm10-gb.fasta', 'OG9343_Hmm10-gb.fasta', 'OG9366_Hmm10-gb.fasta', 'OG9381_Hmm10-gb.fasta', 'OG9407_Hmm10-gb.fasta', 'OG9410_Hmm10-gb.fasta', 'OG9441_Hmm10-gb.fasta', 'OG9487_Hmm10-gb.fasta', 'OG9541_Hmm10-gb.fasta', 'OG9544_Hmm10-gb.fasta', 'OG9592_Hmm10-gb.fasta', 'OG9594_Hmm10-gb.fasta', 'OG9608_Hmm10-gb.fasta', 'OG964_Hmm10-gb.fasta', 'OG9674_Hmm10-gb.fasta', 'OG9681_Hmm10-gb.fasta', 'OG9694_Hmm10-gb.fasta', 'OG9700_Hmm10-gb.fasta', 'OG9724_Hmm10-gb.fasta', 'OG9732_Hmm10-gb.fasta', 'OG975_Hmm10-gb.fasta', 'OG9763_Hmm10-gb.fasta', 'OG9772_Hmm10-gb.fasta', 'OG9787_Hmm10-gb.fasta', 'OG9799_Hmm10-gb.fasta', 'OG984_Hmm10-gb.fasta', 'OG9851_Hmm10-gb.fasta', 'OG9855_Hmm10-gb.fasta', 'OG9856_Hmm10-gb.fasta', 'OG9873_Hmm10-gb.fasta', 'OG9885_Hmm10-gb.fasta', 'OG9901_Hmm10-gb.fasta', 'OG9903_Hmm10-gb.fasta', 'OG9909_Hmm10-gb.fasta', 'OG9912_Hmm10-gb.fasta', 'OG9922_Hmm10-gb.fasta', 'OG9927_Hmm10-gb.fasta', 'OG9955_Hmm10-gb.fasta', 'OG9960_Hmm10-gb.fasta', 'OG998_Hmm10-gb.fasta']\n"
     ]
    }
   ],
   "source": [
    "path = './Data/all_alignments_trimmed'\n",
    "fasta_files = [f for f in os.listdir(path) if f.endswith('.fasta')]\n",
    "print(fasta_files)"
   ]
  },
  {
   "cell_type": "markdown",
   "metadata": {},
   "source": [
    "Get Phyla"
   ]
  },
  {
   "cell_type": "code",
   "execution_count": 49,
   "metadata": {},
   "outputs": [],
   "source": [
    "species_dict = {}\n",
    "\n",
    "with open('species_group.txt', 'r') as file:\n",
    "    lines = file.readlines()\n",
    "\n",
    "    for line in lines:\n",
    "        species, phylum = line.split('>')[0].strip(), line.split('>')[1].strip()\n",
    "        species_dict[species.strip()] = phylum"
   ]
  },
  {
   "cell_type": "markdown",
   "metadata": {},
   "source": [
    "Function to Get Sequences From FASTA File as Dict"
   ]
  },
  {
   "cell_type": "code",
   "execution_count": 50,
   "metadata": {},
   "outputs": [],
   "source": [
    "species_counts = {}\n",
    "gene_counts = {}\n",
    "\n",
    "# returns a dictionary object with sequence names as keys and sequences as values\n",
    "def get_sequences(fasta_file):\n",
    "    with open(os.path.join(path, fasta_file), 'r') as file:\n",
    "        sequences = {}\n",
    "        current_seq_name = None\n",
    "        current_sequence = []\n",
    "        for line in file:\n",
    "            line = line.strip()\n",
    "            if line.startswith('>'):  # Start of a new sequence\n",
    "                if current_seq_name:  # Save the previous sequence\n",
    "                    sequences[current_seq_name] = ''.join(current_sequence)\n",
    "                    species_counts[current_seq_name] = species_counts.get(current_seq_name, 0) + 1\n",
    "                current_seq_name = line[1:]  # Save the sequence name (exclude '>')\n",
    "                current_sequence = []  # Reset the sequence buffer\n",
    "            else:\n",
    "                current_sequence.append(line)  # Collect sequence data\n",
    "        if current_seq_name:  # Save the last sequence in the file\n",
    "            sequences[current_seq_name] = ''.join(current_sequence)\n",
    "            # species_counts[current_seq_name] = species_counts.get(current_seq_name, 0) + 1\n",
    "    gene_counts[fasta_file] = len(sequences)\n",
    "    species_counts[\"TOTAL GENES\"] = species_counts.get(\"TOTAL GENES\", 0) + 1\n",
    "    return sequences"
   ]
  },
  {
   "cell_type": "markdown",
   "metadata": {},
   "source": [
    "Dictionary of Dictionaries Containing Sequences for Every Gene"
   ]
  },
  {
   "cell_type": "code",
   "execution_count": 51,
   "metadata": {},
   "outputs": [],
   "source": [
    "gene_sequences = {}\n",
    "for fasta_file in fasta_files:\n",
    "    sequences = get_sequences(fasta_file)\n",
    "    gene_name = fasta_file.split('_')[0]\n",
    "    gene_sequences[gene_name] = sequences"
   ]
  },
  {
   "cell_type": "markdown",
   "metadata": {},
   "source": [
    "Save the Unique Species and their Counts"
   ]
  },
  {
   "cell_type": "code",
   "execution_count": 52,
   "metadata": {},
   "outputs": [],
   "source": [
    "with open('species_count.txt', 'w') as f:\n",
    "    for species, count in sorted(species_counts.items(), key=lambda x: x[1], reverse=True):\n",
    "        f.write(f'{species}\\t{count}\\n')"
   ]
  },
  {
   "cell_type": "code",
   "execution_count": null,
   "metadata": {},
   "outputs": [
    {
     "name": "stdout",
     "output_type": "stream",
     "text": [
      "['Xenoturbella bocki@211205', 'Pediculus humanus@282015', 'Leucosolenia complicata@292502', 'Homo sapiens@338256', 'Balanoglossus cf._aurantica_JTC2014@323706', 'Saccoglossus kowalevskii@331685', 'Strongylocentrotus purpuratus@313517', 'Patiria miniata@327719', 'Asterias forbesi@321609', 'Sclerodactyla briareus@321628', 'Stichopus japonicus@291573', 'Oxycomanthus japonicus@313265', 'Echinarachnius parma@296875', 'Harrimaniidae sp._n._clade_1_JTC2014@284051', 'Paratomella rubra@308417', 'Isodiametra pulchra@306835', 'Hofstenia miamia@291452', 'Loligo pealei@317280', 'Branchiostoma floridae@306508', 'Stomolophus meleagris@295611', 'Ptychodera bahamensis@271470', 'Ophiocoma echinata@285659', 'Symsagittifera roscoffensis@284582', 'Lottia gigantea@319634', 'Acropora cervicornis@299639']\n",
      "290\n"
     ]
    }
   ],
   "source": [
    "# Gene sequences -> keys\n",
    "needed_species = [\"Xenoturbella bocki@211205\", \"Pediculus humanus@282015\", \"Leucosolenia complicata@292502\"]\n",
    "\n",
    "for _ in range(25 - len(needed_species)):\n",
    "    species_counts = {}\n",
    "    for gene_name, sequences in gene_sequences.items():\n",
    "        skip_gene = False\n",
    "        for species in needed_species:\n",
    "            if species not in sequences.keys():\n",
    "                skip_gene = True\n",
    "                break\n",
    "        if skip_gene:\n",
    "            continue\n",
    "        for count_species in sequences.keys():\n",
    "            if count_species in needed_species:\n",
    "                continue\n",
    "            species_counts[count_species] = species_counts.get(count_species, 0) + 1\n",
    "    sorted_list = sorted(species_counts.items(), key=lambda x: x[1], reverse=True)\n",
    "    needed_species.append(sorted_list[0][0])\n",
    "\n",
    "print(needed_species)\n",
    "num_genes = 0\n",
    "genes_to_delete = []\n",
    "for gene_name, sequences in gene_sequences.items():\n",
    "    skip_gene = False\n",
    "    relevant_count = 0\n",
    "    species_to_delete = []\n",
    "    for species in sequences.keys():\n",
    "        if species in needed_species:\n",
    "            relevant_count += 1\n",
    "        else:\n",
    "            species_to_delete.append(species)\n",
    "    for species in species_to_delete:\n",
    "        del sequences[species]\n",
    "    if relevant_count != len(needed_species):\n",
    "        genes_to_delete.append(gene_name)\n",
    "        continue\n",
    "    num_genes += 1\n",
    "print(num_genes)\n",
    "\n",
    "for gene_name in genes_to_delete:\n",
    "    del gene_sequences[gene_name]\n",
    "\n",
    "with open('included_species.txt', 'w') as f:\n",
    "    for species in needed_species:\n",
    "        f.write(f'{species} >{species_dict[species]}\\n')\n",
    "\n"
   ]
  },
  {
   "cell_type": "markdown",
   "metadata": {},
   "source": [
    "### Calculate Distance Matrix"
   ]
  },
  {
   "cell_type": "code",
   "execution_count": 58,
   "metadata": {},
   "outputs": [],
   "source": [
    "blosum = {}\n",
    "with open('blosum62.txt', 'r') as f:\n",
    "    lines = f.readlines()[6:]\n",
    "    keys = lines[0].split()\n",
    "    keys[-1] = '-'\n",
    "    for i, line in enumerate(lines[1:]):\n",
    "        blosum[keys[i]] = {k : int(v) for (k,v) in zip(keys, line.split()[1:])}\n",
    "\n",
    "def calculate_distance(seq1, seq2):\n",
    "    score = 0\n",
    "    for i in range(len(seq1)):\n",
    "        a = '-' if seq1[i] == '?' else seq1[i]\n",
    "        b = '-' if seq2[i] == '?' else seq2[i]\n",
    "        score -= blosum[a][b]\n",
    "    return score"
   ]
  },
  {
   "cell_type": "code",
   "execution_count": 59,
   "metadata": {},
   "outputs": [],
   "source": [
    "def get_distance_matrix(sequences):\n",
    "    distance_matrix = {}\n",
    "    for seq1_name, seq1 in sequences.items():\n",
    "        distance_matrix[seq1_name] = {}\n",
    "        for seq2_name, seq2 in sequences.items():\n",
    "            distance_matrix[seq1_name][seq2_name] = calculate_distance(seq1, seq2)\n",
    "    return distance_matrix"
   ]
  },
  {
   "cell_type": "code",
   "execution_count": 60,
   "metadata": {},
   "outputs": [
    {
     "name": "stderr",
     "output_type": "stream",
     "text": [
      "100%|██████████| 290/290 [00:15<00:00, 18.89it/s]\n"
     ]
    }
   ],
   "source": [
    "distance_matrices = {}\n",
    "for gene_name, sequences in tqdm(gene_sequences.items()):\n",
    "    distance_matrices[gene_name] = get_distance_matrix(sequences)"
   ]
  },
  {
   "cell_type": "markdown",
   "metadata": {},
   "source": [
    "### Perform Neighbor Joining"
   ]
  },
  {
   "cell_type": "code",
   "execution_count": 61,
   "metadata": {},
   "outputs": [],
   "source": [
    "import copy\n",
    "def min_S_value(D, u):\n",
    "    m = len(D)\n",
    "    min_S, min_i, min_j = float(\"inf\"), -1, -1\n",
    "    for k in D:\n",
    "        for l in D[k]:\n",
    "            if l != k:\n",
    "                crit = (m - 2) * D[k][l] - u[k] - u[l]\n",
    "                if crit < min_S:\n",
    "                    min_S = crit\n",
    "                    min_i = k\n",
    "                    min_j = l\n",
    "    return (min_i, min_j)\n",
    "\n",
    "def neighbor_join(D):\n",
    "    D = copy.deepcopy(D)\n",
    "    T = {} \n",
    "    clusters = []  # List of clusters\n",
    "    r = len(D)\n",
    "    new_node = r\n",
    "    species = set(D.keys())\n",
    "\n",
    "    # Initialize clusters from D\n",
    "    current_clusters = {k: [k] for k in D}\n",
    "\n",
    "    while len(D) > 2:\n",
    "        u = {k: sum(D[k].values()) for k in D}\n",
    "        i, j = min_S_value(D, u)\n",
    "\n",
    "        r = new_node\n",
    "        new_node += 1\n",
    "\n",
    "        if i not in T:\n",
    "            T[i] = {}\n",
    "        if j not in T:\n",
    "            T[j] = {}\n",
    "        T[r] = {}\n",
    "        T[r][i] = 0.5 * (D[i][j] + (u[i] - u[j]) / (len(D) - 2))\n",
    "        T[i][r] = T[r][i]\n",
    "        T[r][j] = 0.5 * (D[i][j] + (u[j] - u[i]) / (len(D) - 2))\n",
    "        T[j][r] = T[r][j]\n",
    "\n",
    "        # Update clusters: combine the clusters of i and j\n",
    "        current_clusters[r] = current_clusters[i] + current_clusters[j]\n",
    "        clusters.append(current_clusters[r])  # Add the new cluster to the list\n",
    "\n",
    "        new_dist = {}\n",
    "        for m in D:\n",
    "            if m != i and m != j:\n",
    "                new_dist[m] = 0.5 * (D[i][m] + D[j][m] - D[i][j])  \n",
    "                D[m][r] = new_dist[m]\n",
    "\n",
    "        D[r] = new_dist\n",
    "\n",
    "        del D[i]\n",
    "        del D[j]\n",
    "        for k in D:\n",
    "            if i in D[k]:\n",
    "                del D[k][i]\n",
    "            if j in D[k]:\n",
    "                del D[k][j]\n",
    "\n",
    "        del current_clusters[i]\n",
    "        del current_clusters[j]\n",
    "\n",
    "    extra = list(D.keys())\n",
    "    i, j = extra[0], extra[1]\n",
    "    if i not in T:\n",
    "        T[i] = {}\n",
    "    if j not in T:\n",
    "        T[j] = {}\n",
    "    T[i][j] = D[i][j]\n",
    "    T[j][i] = D[i][j]\n",
    "\n",
    "    # Add the final cluster\n",
    "    clusters.append(current_clusters[i] + current_clusters[j])\n",
    "\n",
    "    #change to cluster to set for returning\n",
    "    ret = []\n",
    "    for cluster in clusters:\n",
    "        ret.append(set(cluster))\n",
    "        ret = sorted(ret, key=len) #sort by length\n",
    "\n",
    "    return T, ret,species"
   ]
  },
  {
   "cell_type": "code",
   "execution_count": 62,
   "metadata": {},
   "outputs": [],
   "source": [
    "trees = {}\n",
    "genes = list(gene_sequences.keys())\n",
    "for gene in genes:\n",
    "    trees[gene] = neighbor_join(distance_matrices[gene])        "
   ]
  },
  {
   "cell_type": "markdown",
   "metadata": {},
   "source": [
    "Creating a way to get species phyla from name"
   ]
  },
  {
   "cell_type": "code",
   "execution_count": 63,
   "metadata": {},
   "outputs": [
    {
     "name": "stdout",
     "output_type": "stream",
     "text": [
      "[{'Xenoturbella bocki@211205', 'Sclerodactyla briareus@321628'}, {'Loligo pealei@317280', 'Ophiocoma echinata@285659'}, {'Isodiametra pulchra@306835', 'Symsagittifera roscoffensis@284582'}, {'Echinarachnius parma@296875', 'Strongylocentrotus purpuratus@313517'}, {'Saccoglossus kowalevskii@331685', 'Harrimaniidae sp._n._clade_1_JTC2014@284051'}, {'Isodiametra pulchra@306835', 'Hofstenia miamia@291452', 'Symsagittifera roscoffensis@284582'}, {'Xenoturbella bocki@211205', 'Sclerodactyla briareus@321628', 'Loligo pealei@317280', 'Ophiocoma echinata@285659'}, {'Isodiametra pulchra@306835', 'Hofstenia miamia@291452', 'Paratomella rubra@308417', 'Symsagittifera roscoffensis@284582'}, {'Isodiametra pulchra@306835', 'Ophiocoma echinata@285659', 'Symsagittifera roscoffensis@284582', 'Xenoturbella bocki@211205', 'Sclerodactyla briareus@321628', 'Loligo pealei@317280', 'Hofstenia miamia@291452', 'Paratomella rubra@308417'}, {'Isodiametra pulchra@306835', 'Ophiocoma echinata@285659', 'Leucosolenia complicata@292502', 'Symsagittifera roscoffensis@284582', 'Xenoturbella bocki@211205', 'Sclerodactyla briareus@321628', 'Loligo pealei@317280', 'Hofstenia miamia@291452', 'Paratomella rubra@308417'}, {'Isodiametra pulchra@306835', 'Ophiocoma echinata@285659', 'Leucosolenia complicata@292502', 'Symsagittifera roscoffensis@284582', 'Xenoturbella bocki@211205', 'Sclerodactyla briareus@321628', 'Loligo pealei@317280', 'Hofstenia miamia@291452', 'Pediculus humanus@282015', 'Paratomella rubra@308417'}, {'Isodiametra pulchra@306835', 'Ptychodera bahamensis@271470', 'Ophiocoma echinata@285659', 'Leucosolenia complicata@292502', 'Symsagittifera roscoffensis@284582', 'Xenoturbella bocki@211205', 'Sclerodactyla briareus@321628', 'Loligo pealei@317280', 'Hofstenia miamia@291452', 'Pediculus humanus@282015', 'Paratomella rubra@308417'}, {'Isodiametra pulchra@306835', 'Ptychodera bahamensis@271470', 'Strongylocentrotus purpuratus@313517', 'Ophiocoma echinata@285659', 'Leucosolenia complicata@292502', 'Symsagittifera roscoffensis@284582', 'Xenoturbella bocki@211205', 'Sclerodactyla briareus@321628', 'Loligo pealei@317280', 'Hofstenia miamia@291452', 'Echinarachnius parma@296875', 'Pediculus humanus@282015', 'Paratomella rubra@308417'}, {'Saccoglossus kowalevskii@331685', 'Isodiametra pulchra@306835', 'Ptychodera bahamensis@271470', 'Strongylocentrotus purpuratus@313517', 'Ophiocoma echinata@285659', 'Leucosolenia complicata@292502', 'Symsagittifera roscoffensis@284582', 'Harrimaniidae sp._n._clade_1_JTC2014@284051', 'Xenoturbella bocki@211205', 'Sclerodactyla briareus@321628', 'Loligo pealei@317280', 'Hofstenia miamia@291452', 'Echinarachnius parma@296875', 'Pediculus humanus@282015', 'Paratomella rubra@308417'}, {'Saccoglossus kowalevskii@331685', 'Isodiametra pulchra@306835', 'Ptychodera bahamensis@271470', 'Strongylocentrotus purpuratus@313517', 'Ophiocoma echinata@285659', 'Leucosolenia complicata@292502', 'Symsagittifera roscoffensis@284582', 'Harrimaniidae sp._n._clade_1_JTC2014@284051', 'Balanoglossus cf._aurantica_JTC2014@323706', 'Xenoturbella bocki@211205', 'Sclerodactyla briareus@321628', 'Loligo pealei@317280', 'Hofstenia miamia@291452', 'Echinarachnius parma@296875', 'Pediculus humanus@282015', 'Paratomella rubra@308417'}, {'Saccoglossus kowalevskii@331685', 'Isodiametra pulchra@306835', 'Ptychodera bahamensis@271470', 'Strongylocentrotus purpuratus@313517', 'Ophiocoma echinata@285659', 'Leucosolenia complicata@292502', 'Symsagittifera roscoffensis@284582', 'Harrimaniidae sp._n._clade_1_JTC2014@284051', 'Oxycomanthus japonicus@313265', 'Balanoglossus cf._aurantica_JTC2014@323706', 'Xenoturbella bocki@211205', 'Sclerodactyla briareus@321628', 'Loligo pealei@317280', 'Hofstenia miamia@291452', 'Echinarachnius parma@296875', 'Pediculus humanus@282015', 'Paratomella rubra@308417'}, {'Saccoglossus kowalevskii@331685', 'Isodiametra pulchra@306835', 'Lottia gigantea@319634', 'Ptychodera bahamensis@271470', 'Strongylocentrotus purpuratus@313517', 'Ophiocoma echinata@285659', 'Leucosolenia complicata@292502', 'Symsagittifera roscoffensis@284582', 'Harrimaniidae sp._n._clade_1_JTC2014@284051', 'Oxycomanthus japonicus@313265', 'Balanoglossus cf._aurantica_JTC2014@323706', 'Xenoturbella bocki@211205', 'Sclerodactyla briareus@321628', 'Loligo pealei@317280', 'Hofstenia miamia@291452', 'Echinarachnius parma@296875', 'Pediculus humanus@282015', 'Paratomella rubra@308417'}, {'Lottia gigantea@319634', 'Leucosolenia complicata@292502', 'Balanoglossus cf._aurantica_JTC2014@323706', 'Xenoturbella bocki@211205', 'Echinarachnius parma@296875', 'Symsagittifera roscoffensis@284582', 'Oxycomanthus japonicus@313265', 'Hofstenia miamia@291452', 'Sclerodactyla briareus@321628', 'Strongylocentrotus purpuratus@313517', 'Homo sapiens@338256', 'Loligo pealei@317280', 'Pediculus humanus@282015', 'Paratomella rubra@308417', 'Saccoglossus kowalevskii@331685', 'Isodiametra pulchra@306835', 'Ptychodera bahamensis@271470', 'Ophiocoma echinata@285659', 'Harrimaniidae sp._n._clade_1_JTC2014@284051'}, {'Lottia gigantea@319634', 'Leucosolenia complicata@292502', 'Balanoglossus cf._aurantica_JTC2014@323706', 'Xenoturbella bocki@211205', 'Echinarachnius parma@296875', 'Symsagittifera roscoffensis@284582', 'Oxycomanthus japonicus@313265', 'Hofstenia miamia@291452', 'Sclerodactyla briareus@321628', 'Strongylocentrotus purpuratus@313517', 'Homo sapiens@338256', 'Loligo pealei@317280', 'Pediculus humanus@282015', 'Paratomella rubra@308417', 'Saccoglossus kowalevskii@331685', 'Isodiametra pulchra@306835', 'Ptychodera bahamensis@271470', 'Ophiocoma echinata@285659', 'Harrimaniidae sp._n._clade_1_JTC2014@284051', 'Branchiostoma floridae@306508'}, {'Lottia gigantea@319634', 'Stomolophus meleagris@295611', 'Leucosolenia complicata@292502', 'Balanoglossus cf._aurantica_JTC2014@323706', 'Xenoturbella bocki@211205', 'Echinarachnius parma@296875', 'Symsagittifera roscoffensis@284582', 'Oxycomanthus japonicus@313265', 'Hofstenia miamia@291452', 'Sclerodactyla briareus@321628', 'Strongylocentrotus purpuratus@313517', 'Homo sapiens@338256', 'Loligo pealei@317280', 'Pediculus humanus@282015', 'Paratomella rubra@308417', 'Saccoglossus kowalevskii@331685', 'Isodiametra pulchra@306835', 'Ptychodera bahamensis@271470', 'Ophiocoma echinata@285659', 'Branchiostoma floridae@306508', 'Harrimaniidae sp._n._clade_1_JTC2014@284051'}, {'Lottia gigantea@319634', 'Stomolophus meleagris@295611', 'Leucosolenia complicata@292502', 'Balanoglossus cf._aurantica_JTC2014@323706', 'Xenoturbella bocki@211205', 'Echinarachnius parma@296875', 'Symsagittifera roscoffensis@284582', 'Oxycomanthus japonicus@313265', 'Hofstenia miamia@291452', 'Sclerodactyla briareus@321628', 'Acropora cervicornis@299639', 'Strongylocentrotus purpuratus@313517', 'Homo sapiens@338256', 'Loligo pealei@317280', 'Pediculus humanus@282015', 'Paratomella rubra@308417', 'Saccoglossus kowalevskii@331685', 'Isodiametra pulchra@306835', 'Ptychodera bahamensis@271470', 'Ophiocoma echinata@285659', 'Branchiostoma floridae@306508', 'Harrimaniidae sp._n._clade_1_JTC2014@284051'}, {'Lottia gigantea@319634', 'Stichopus japonicus@291573', 'Stomolophus meleagris@295611', 'Leucosolenia complicata@292502', 'Balanoglossus cf._aurantica_JTC2014@323706', 'Xenoturbella bocki@211205', 'Echinarachnius parma@296875', 'Symsagittifera roscoffensis@284582', 'Oxycomanthus japonicus@313265', 'Hofstenia miamia@291452', 'Sclerodactyla briareus@321628', 'Acropora cervicornis@299639', 'Strongylocentrotus purpuratus@313517', 'Homo sapiens@338256', 'Loligo pealei@317280', 'Pediculus humanus@282015', 'Paratomella rubra@308417', 'Saccoglossus kowalevskii@331685', 'Isodiametra pulchra@306835', 'Ptychodera bahamensis@271470', 'Ophiocoma echinata@285659', 'Branchiostoma floridae@306508', 'Harrimaniidae sp._n._clade_1_JTC2014@284051'}, {'Lottia gigantea@319634', 'Stichopus japonicus@291573', 'Stomolophus meleagris@295611', 'Leucosolenia complicata@292502', 'Balanoglossus cf._aurantica_JTC2014@323706', 'Xenoturbella bocki@211205', 'Echinarachnius parma@296875', 'Symsagittifera roscoffensis@284582', 'Oxycomanthus japonicus@313265', 'Hofstenia miamia@291452', 'Sclerodactyla briareus@321628', 'Acropora cervicornis@299639', 'Strongylocentrotus purpuratus@313517', 'Homo sapiens@338256', 'Loligo pealei@317280', 'Pediculus humanus@282015', 'Paratomella rubra@308417', 'Saccoglossus kowalevskii@331685', 'Isodiametra pulchra@306835', 'Ptychodera bahamensis@271470', 'Ophiocoma echinata@285659', 'Branchiostoma floridae@306508', 'Harrimaniidae sp._n._clade_1_JTC2014@284051', 'Asterias forbesi@321609'}, {'Lottia gigantea@319634', 'Stichopus japonicus@291573', 'Stomolophus meleagris@295611', 'Leucosolenia complicata@292502', 'Balanoglossus cf._aurantica_JTC2014@323706', 'Xenoturbella bocki@211205', 'Echinarachnius parma@296875', 'Symsagittifera roscoffensis@284582', 'Oxycomanthus japonicus@313265', 'Hofstenia miamia@291452', 'Sclerodactyla briareus@321628', 'Acropora cervicornis@299639', 'Patiria miniata@327719', 'Strongylocentrotus purpuratus@313517', 'Homo sapiens@338256', 'Loligo pealei@317280', 'Pediculus humanus@282015', 'Paratomella rubra@308417', 'Saccoglossus kowalevskii@331685', 'Isodiametra pulchra@306835', 'Ptychodera bahamensis@271470', 'Ophiocoma echinata@285659', 'Branchiostoma floridae@306508', 'Harrimaniidae sp._n._clade_1_JTC2014@284051', 'Asterias forbesi@321609'}]\n",
      "[{'Xenacoelomorpha', 'Echinodermata'}, {'Lophotrochozoa', 'Echinodermata'}, {'Xenacoelomorpha'}, {'Echinodermata'}, {'Hemichordata'}, {'Xenacoelomorpha'}, {'Xenacoelomorpha', 'Lophotrochozoa', 'Echinodermata'}, {'Xenacoelomorpha'}, {'Xenacoelomorpha', 'Lophotrochozoa', 'Echinodermata'}, {'Xenacoelomorpha', 'Lophotrochozoa', 'Porifera', 'Echinodermata'}, {'Xenacoelomorpha', 'Lophotrochozoa', 'Echinodermata', 'Porifera', 'Ecdysozoa'}, {'Xenacoelomorpha', 'Lophotrochozoa', 'Porifera', 'Ecdysozoa', 'Hemichordata', 'Echinodermata'}, {'Xenacoelomorpha', 'Lophotrochozoa', 'Porifera', 'Ecdysozoa', 'Hemichordata', 'Echinodermata'}, {'Xenacoelomorpha', 'Lophotrochozoa', 'Porifera', 'Ecdysozoa', 'Hemichordata', 'Echinodermata'}, {'Xenacoelomorpha', 'Lophotrochozoa', 'Porifera', 'Ecdysozoa', 'Hemichordata', 'Echinodermata'}, {'Xenacoelomorpha', 'Lophotrochozoa', 'Porifera', 'Ecdysozoa', 'Hemichordata', 'Echinodermata'}, {'Xenacoelomorpha', 'Lophotrochozoa', 'Porifera', 'Ecdysozoa', 'Hemichordata', 'Echinodermata'}, {'Xenacoelomorpha', 'Chordata', 'Lophotrochozoa', 'Porifera', 'Ecdysozoa', 'Hemichordata', 'Echinodermata'}, {'Xenacoelomorpha', 'Chordata', 'Lophotrochozoa', 'Porifera', 'Ecdysozoa', 'Hemichordata', 'Echinodermata'}, {'Xenacoelomorpha', 'Chordata', 'Lophotrochozoa', 'Porifera', 'Cnidaria', 'Ecdysozoa', 'Hemichordata', 'Echinodermata'}, {'Xenacoelomorpha', 'Chordata', 'Lophotrochozoa', 'Porifera', 'Cnidaria', 'Ecdysozoa', 'Hemichordata', 'Echinodermata'}, {'Xenacoelomorpha', 'Chordata', 'Lophotrochozoa', 'Porifera', 'Cnidaria', 'Ecdysozoa', 'Hemichordata', 'Echinodermata'}, {'Xenacoelomorpha', 'Chordata', 'Lophotrochozoa', 'Porifera', 'Cnidaria', 'Ecdysozoa', 'Hemichordata', 'Echinodermata'}, {'Xenacoelomorpha', 'Chordata', 'Lophotrochozoa', 'Porifera', 'Cnidaria', 'Ecdysozoa', 'Hemichordata', 'Echinodermata'}]\n"
     ]
    }
   ],
   "source": [
    "trees_by_phyla = {}\n",
    "for gene in genes:\n",
    "    new_clusters = []\n",
    "    for cluster in trees[gene][1]:\n",
    "        phyla = set()\n",
    "        for species in cluster:\n",
    "            phyla.add(species_dict[species])\n",
    "        new_clusters.append(phyla)\n",
    "    trees_by_phyla[gene] = new_clusters\n",
    "\n",
    "\n",
    "#print clusters for one gene w/ normal names and phyla      \n",
    "print(trees[genes[0]][1])\n",
    "print(trees_by_phyla[genes[0]])      \n"
   ]
  },
  {
   "cell_type": "markdown",
   "metadata": {},
   "source": [
    "counting clusters"
   ]
  },
  {
   "cell_type": "code",
   "execution_count": 64,
   "metadata": {},
   "outputs": [],
   "source": [
    "cluster_counts = {}\n",
    "for gene in genes:\n",
    "    clusters = trees[gene][1]\n",
    "    for c in clusters:\n",
    "        c = tuple(list(c))\n",
    "        if c in cluster_counts.keys():\n",
    "            cluster_counts[c] += 1\n",
    "        else:\n",
    "            cluster_counts[c] = 1"
   ]
  },
  {
   "cell_type": "code",
   "execution_count": 65,
   "metadata": {},
   "outputs": [
    {
     "name": "stdout",
     "output_type": "stream",
     "text": [
      "[221, 135, 119, 113, 103, 99, 72, 72, 59, 53, 50, 48, 43, 41, 33, 30, 27, 23, 22, 22, 21, 21, 18, 17, 17, 16, 16, 16, 15, 15, 14, 14, 14, 13, 13, 12, 12, 12, 12, 11, 11, 11, 11, 11, 11, 10, 10, 10, 10, 9, 9, 9, 9, 9, 9, 9, 9, 9, 9, 8, 8, 8, 8, 8, 8, 8, 8, 8, 7, 7, 7, 7, 7, 7, 7, 7, 7, 7, 6, 6, 6, 6, 6, 6, 6, 6, 6, 6, 6, 6, 6, 6, 6, 6, 6, 6, 6, 6, 6, 6, 5, 5, 5, 5, 5, 5, 5, 5, 5, 5, 5, 5, 5, 5, 5, 5, 5, 5, 5, 5, 5, 5, 5, 5, 5, 5, 5, 5, 5, 5, 5, 5, 5, 5, 5, 4, 4, 4, 4, 4, 4, 4, 4, 4, 4, 4, 4, 4, 4, 4, 4, 4, 4, 4, 4, 4, 4, 4, 4, 4, 4, 4, 4, 4, 4, 4, 4, 4, 4, 4, 4, 4, 4, 4, 4, 4, 4, 4, 4, 3, 3, 3, 3, 3, 3, 3, 3, 3, 3, 3, 3, 3, 3, 3, 3, 3, 3, 3, 3, 3, 3, 3, 3, 3, 3, 3, 3, 3, 3, 3, 3, 3, 3, 3, 3, 3, 3, 3, 3, 3, 3, 3, 3, 3, 3, 3, 3, 3, 3, 3, 3, 3, 3, 3, 3, 3, 3, 3, 3, 3, 3, 3, 3, 3, 3, 3, 3, 3, 3, 3, 3, 3, 3, 3, 3, 3, 3, 3, 3, 3, 3, 3, 3, 3, 3, 3, 3, 3, 3, 3, 3, 3, 3, 3, 3, 3, 3, 2, 2, 2, 2, 2, 2, 2, 2, 2, 2, 2, 2, 2, 2, 2, 2, 2, 2, 2, 2, 2, 2, 2, 2, 2, 2, 2, 2, 2, 2, 2, 2, 2, 2, 2, 2, 2, 2, 2, 2, 2, 2, 2, 2, 2, 2, 2, 2, 2, 2, 2, 2, 2, 2, 2, 2, 2, 2, 2, 2, 2, 2, 2, 2, 2, 2, 2, 2, 2, 2, 2, 2, 2, 2, 2, 2, 2, 2, 2, 2, 2, 2, 2, 2, 2, 2, 2, 2, 2, 2, 2, 2, 2, 2, 2, 2, 2, 2, 2, 2, 2, 2, 2, 2, 2, 2, 2, 2, 2, 2, 2, 2, 2, 2, 2, 2, 2, 2, 2, 2, 2, 2, 2, 2, 2, 2, 2, 2, 2, 2, 2, 2, 2, 2, 2, 2, 2, 2, 2, 2, 2, 2, 2, 2, 2, 2, 2, 2, 2, 2, 2, 2, 2, 2, 2, 2, 2, 2, 2, 2, 2, 2, 2, 2, 2, 2, 2, 2, 2, 2, 2, 2, 2, 2, 2, 2, 2, 2, 2, 2, 2, 2, 2, 2, 2, 2, 2, 2, 2, 2, 2, 2, 2, 2, 2, 2, 2, 2, 2, 2, 2, 2, 2, 2, 2, 2, 2, 2, 2, 2, 2, 2, 2, 2, 2, 2, 2, 2, 2, 2, 2, 2, 2, 2, 2, 2, 2, 2, 2, 2, 2, 2, 2, 2, 2, 2, 2, 2, 2, 2, 2, 2, 2, 2, 2, 2, 2, 2, 2, 2, 2, 2, 2, 2, 2, 2, 2, 2, 2, 2, 2, 2, 2, 2, 2, 2, 2, 2, 1, 1, 1, 1, 1, 1, 1, 1, 1, 1, 1, 1, 1, 1, 1, 1, 1, 1, 1, 1, 1, 1, 1, 1, 1, 1, 1, 1, 1, 1, 1, 1, 1, 1, 1, 1, 1, 1, 1, 1, 1, 1, 1, 1, 1, 1, 1, 1, 1, 1, 1, 1, 1, 1, 1, 1, 1, 1, 1, 1, 1, 1, 1, 1, 1, 1, 1, 1, 1, 1, 1, 1, 1, 1, 1, 1, 1, 1, 1, 1, 1, 1, 1, 1, 1, 1, 1, 1, 1, 1, 1, 1, 1, 1, 1, 1, 1, 1, 1, 1, 1, 1, 1, 1, 1, 1, 1, 1, 1, 1, 1, 1, 1, 1, 1, 1, 1, 1, 1, 1, 1, 1, 1, 1, 1, 1, 1, 1, 1, 1, 1, 1, 1, 1, 1, 1, 1, 1, 1, 1, 1, 1, 1, 1, 1, 1, 1, 1, 1, 1, 1, 1, 1, 1, 1, 1, 1, 1, 1, 1, 1, 1, 1, 1, 1, 1, 1, 1, 1, 1, 1, 1, 1, 1, 1, 1, 1, 1, 1, 1, 1, 1, 1, 1, 1, 1, 1, 1, 1, 1, 1, 1, 1, 1, 1, 1, 1, 1, 1, 1, 1, 1, 1, 1, 1, 1, 1, 1, 1, 1, 1, 1, 1, 1, 1, 1, 1, 1, 1, 1, 1, 1, 1, 1, 1, 1, 1, 1, 1, 1, 1, 1, 1, 1, 1, 1, 1, 1, 1, 1, 1, 1, 1, 1, 1, 1, 1, 1, 1, 1, 1, 1, 1, 1, 1, 1, 1, 1, 1, 1, 1, 1, 1, 1, 1, 1, 1, 1, 1, 1, 1, 1, 1, 1, 1, 1, 1, 1, 1, 1, 1, 1, 1, 1, 1, 1, 1, 1, 1, 1, 1, 1, 1, 1, 1, 1, 1, 1, 1, 1, 1, 1, 1, 1, 1, 1, 1, 1, 1, 1, 1, 1, 1, 1, 1, 1, 1, 1, 1, 1, 1, 1, 1, 1, 1, 1, 1, 1, 1, 1, 1, 1, 1, 1, 1, 1, 1, 1, 1, 1, 1, 1, 1, 1, 1, 1, 1, 1, 1, 1, 1, 1, 1, 1, 1, 1, 1, 1, 1, 1, 1, 1, 1, 1, 1, 1, 1, 1, 1, 1, 1, 1, 1, 1, 1, 1, 1, 1, 1, 1, 1, 1, 1, 1, 1, 1, 1, 1, 1, 1, 1, 1, 1, 1, 1, 1, 1, 1, 1, 1, 1, 1, 1, 1, 1, 1, 1, 1, 1, 1, 1, 1, 1, 1, 1, 1, 1, 1, 1, 1, 1, 1, 1, 1, 1, 1, 1, 1, 1, 1, 1, 1, 1, 1, 1, 1, 1, 1, 1, 1, 1, 1, 1, 1, 1, 1, 1, 1, 1, 1, 1, 1, 1, 1, 1, 1, 1, 1, 1, 1, 1, 1, 1, 1, 1, 1, 1, 1, 1, 1, 1, 1, 1, 1, 1, 1, 1, 1, 1, 1, 1, 1, 1, 1, 1, 1, 1, 1, 1, 1, 1, 1, 1, 1, 1, 1, 1, 1, 1, 1, 1, 1, 1, 1, 1, 1, 1, 1, 1, 1, 1, 1, 1, 1, 1, 1, 1, 1, 1, 1, 1, 1, 1, 1, 1, 1, 1, 1, 1, 1, 1, 1, 1, 1, 1, 1, 1, 1, 1, 1, 1, 1, 1, 1, 1, 1, 1, 1, 1, 1, 1, 1, 1, 1, 1, 1, 1, 1, 1, 1, 1, 1, 1, 1, 1, 1, 1, 1, 1, 1, 1, 1, 1, 1, 1, 1, 1, 1, 1, 1, 1, 1, 1, 1, 1, 1, 1, 1, 1, 1, 1, 1, 1, 1, 1, 1, 1, 1, 1, 1, 1, 1, 1, 1, 1, 1, 1, 1, 1, 1, 1, 1, 1, 1, 1, 1, 1, 1, 1, 1, 1, 1, 1, 1, 1, 1, 1, 1, 1, 1, 1, 1, 1, 1, 1, 1, 1, 1, 1, 1, 1, 1, 1, 1, 1, 1, 1, 1, 1, 1, 1, 1, 1, 1, 1, 1, 1, 1, 1, 1, 1, 1, 1, 1, 1, 1, 1, 1, 1, 1, 1, 1, 1, 1, 1, 1, 1, 1, 1, 1, 1, 1, 1, 1, 1, 1, 1, 1, 1, 1, 1, 1, 1, 1, 1, 1, 1, 1, 1, 1, 1, 1, 1, 1, 1, 1, 1, 1, 1, 1, 1, 1, 1, 1, 1, 1, 1, 1, 1, 1, 1, 1, 1, 1, 1, 1, 1, 1, 1, 1, 1, 1, 1, 1, 1, 1, 1, 1, 1, 1, 1, 1, 1, 1, 1, 1, 1, 1, 1, 1, 1, 1, 1, 1, 1, 1, 1, 1, 1, 1, 1, 1, 1, 1, 1, 1, 1, 1, 1, 1, 1, 1, 1, 1, 1, 1, 1, 1, 1, 1, 1, 1, 1, 1, 1, 1, 1, 1, 1, 1, 1, 1, 1, 1, 1, 1, 1, 1, 1, 1, 1, 1, 1, 1, 1, 1, 1, 1, 1, 1, 1, 1, 1, 1, 1, 1, 1, 1, 1, 1, 1, 1, 1, 1, 1, 1, 1, 1, 1, 1, 1, 1, 1, 1, 1, 1, 1, 1, 1, 1, 1, 1, 1, 1, 1, 1, 1, 1, 1, 1, 1, 1, 1, 1, 1, 1, 1, 1, 1, 1, 1, 1, 1, 1, 1, 1, 1, 1, 1, 1, 1, 1, 1, 1, 1, 1, 1, 1, 1, 1, 1, 1, 1, 1, 1, 1, 1, 1, 1, 1, 1, 1, 1, 1, 1, 1, 1, 1, 1, 1, 1, 1, 1, 1, 1, 1, 1, 1, 1, 1, 1, 1, 1, 1, 1, 1, 1, 1, 1, 1, 1, 1, 1, 1, 1, 1, 1, 1, 1, 1, 1, 1, 1, 1, 1, 1, 1, 1, 1, 1, 1, 1, 1, 1, 1, 1, 1, 1, 1, 1, 1, 1, 1, 1, 1, 1, 1, 1, 1, 1, 1, 1, 1, 1, 1, 1, 1, 1, 1, 1, 1, 1, 1, 1, 1, 1, 1, 1, 1, 1, 1, 1, 1, 1, 1, 1, 1, 1, 1, 1, 1, 1, 1, 1, 1, 1, 1, 1, 1, 1, 1, 1, 1, 1, 1, 1, 1, 1, 1, 1, 1, 1, 1, 1, 1, 1, 1, 1, 1, 1, 1, 1, 1, 1, 1, 1, 1, 1, 1, 1, 1, 1, 1, 1, 1, 1, 1, 1, 1, 1, 1, 1, 1, 1, 1, 1, 1, 1, 1, 1, 1, 1, 1, 1, 1, 1, 1, 1, 1, 1, 1, 1, 1, 1, 1, 1, 1, 1, 1, 1, 1, 1, 1, 1, 1, 1, 1, 1, 1, 1, 1, 1, 1, 1, 1, 1, 1, 1, 1, 1, 1, 1, 1, 1, 1, 1, 1, 1, 1, 1, 1, 1, 1, 1, 1, 1, 1, 1, 1, 1, 1, 1, 1, 1, 1, 1, 1, 1, 1, 1, 1, 1, 1, 1, 1, 1, 1, 1, 1, 1, 1, 1, 1, 1, 1, 1, 1, 1, 1, 1, 1, 1, 1, 1, 1, 1, 1, 1, 1, 1, 1, 1, 1, 1, 1, 1, 1, 1, 1, 1, 1, 1, 1, 1, 1, 1, 1, 1, 1, 1, 1, 1, 1, 1, 1, 1, 1, 1, 1, 1, 1, 1, 1, 1, 1, 1, 1, 1, 1, 1, 1, 1, 1, 1, 1, 1, 1, 1, 1, 1, 1, 1, 1, 1, 1, 1, 1, 1, 1, 1, 1, 1, 1, 1, 1, 1, 1, 1, 1, 1, 1, 1, 1, 1, 1, 1, 1, 1, 1, 1, 1, 1, 1, 1, 1, 1, 1, 1, 1, 1, 1, 1, 1, 1, 1, 1, 1, 1, 1, 1, 1, 1, 1, 1, 1, 1, 1, 1, 1, 1, 1, 1, 1, 1, 1, 1, 1, 1, 1, 1, 1, 1, 1, 1, 1, 1, 1, 1, 1, 1, 1, 1, 1, 1, 1, 1, 1, 1, 1, 1, 1, 1, 1, 1, 1, 1, 1, 1, 1, 1, 1, 1, 1, 1, 1, 1, 1, 1, 1, 1, 1, 1, 1, 1, 1, 1, 1, 1, 1, 1, 1, 1, 1, 1, 1, 1, 1, 1, 1, 1, 1, 1, 1, 1, 1, 1, 1, 1, 1, 1, 1, 1, 1, 1, 1, 1, 1, 1, 1, 1, 1, 1, 1, 1, 1, 1, 1, 1, 1, 1, 1, 1, 1, 1, 1, 1, 1, 1, 1, 1, 1, 1, 1, 1, 1, 1, 1, 1, 1, 1, 1, 1, 1, 1, 1, 1, 1, 1, 1, 1, 1, 1, 1, 1, 1, 1, 1, 1, 1, 1, 1, 1, 1, 1, 1, 1, 1, 1, 1, 1, 1, 1, 1, 1, 1, 1, 1, 1, 1, 1, 1, 1, 1, 1, 1, 1, 1, 1, 1, 1, 1, 1, 1, 1, 1, 1, 1, 1, 1, 1, 1, 1, 1, 1, 1, 1, 1, 1, 1, 1, 1, 1, 1, 1, 1, 1, 1, 1, 1, 1, 1, 1, 1, 1, 1, 1, 1, 1, 1, 1, 1, 1, 1, 1, 1, 1, 1, 1, 1, 1, 1, 1, 1, 1, 1, 1, 1, 1, 1, 1, 1, 1, 1, 1, 1, 1, 1, 1, 1, 1, 1, 1, 1, 1, 1, 1, 1, 1, 1, 1, 1, 1, 1, 1, 1, 1, 1, 1, 1, 1, 1, 1, 1, 1, 1, 1, 1, 1, 1, 1, 1, 1, 1, 1, 1, 1, 1, 1, 1, 1, 1, 1, 1, 1, 1, 1, 1, 1, 1, 1, 1, 1, 1, 1, 1, 1, 1, 1, 1, 1, 1, 1, 1, 1, 1, 1, 1, 1, 1, 1, 1, 1, 1, 1, 1, 1, 1, 1, 1, 1, 1, 1, 1, 1, 1, 1, 1, 1, 1, 1, 1, 1, 1, 1, 1, 1, 1, 1, 1, 1, 1, 1, 1, 1, 1, 1, 1, 1, 1, 1, 1, 1, 1, 1, 1, 1, 1, 1, 1, 1, 1, 1, 1, 1, 1, 1, 1, 1, 1, 1, 1, 1, 1, 1, 1, 1, 1, 1, 1, 1, 1, 1, 1, 1, 1, 1, 1, 1, 1, 1, 1, 1, 1, 1, 1, 1, 1, 1, 1, 1, 1, 1, 1, 1, 1, 1, 1, 1, 1, 1, 1, 1, 1, 1, 1, 1, 1, 1, 1, 1, 1, 1, 1, 1, 1, 1, 1, 1, 1, 1, 1, 1, 1, 1, 1, 1, 1, 1, 1, 1, 1, 1, 1, 1, 1, 1, 1, 1, 1, 1, 1, 1, 1, 1, 1, 1, 1, 1, 1, 1, 1, 1, 1, 1, 1, 1, 1, 1, 1, 1, 1, 1, 1, 1, 1, 1, 1, 1, 1, 1, 1, 1, 1, 1, 1, 1, 1, 1, 1, 1, 1, 1, 1, 1, 1, 1, 1, 1, 1, 1, 1, 1, 1, 1, 1, 1, 1, 1, 1, 1, 1, 1, 1, 1, 1, 1, 1, 1, 1, 1, 1, 1, 1, 1, 1, 1, 1, 1, 1, 1, 1, 1, 1, 1, 1, 1, 1, 1, 1, 1, 1, 1, 1, 1, 1, 1, 1, 1, 1, 1, 1, 1, 1, 1, 1, 1, 1, 1, 1, 1, 1, 1, 1, 1, 1, 1, 1, 1, 1, 1, 1, 1, 1, 1, 1, 1, 1, 1, 1, 1, 1, 1, 1, 1, 1, 1, 1, 1, 1, 1, 1, 1, 1, 1, 1, 1, 1, 1, 1, 1, 1, 1, 1, 1, 1, 1, 1, 1, 1, 1, 1, 1, 1, 1, 1, 1, 1, 1, 1, 1, 1, 1, 1, 1, 1, 1, 1, 1, 1, 1, 1, 1, 1, 1, 1, 1, 1, 1, 1, 1, 1, 1, 1, 1, 1, 1, 1, 1, 1, 1, 1, 1, 1, 1, 1, 1, 1, 1, 1, 1, 1, 1, 1, 1, 1, 1, 1, 1, 1, 1, 1, 1, 1, 1, 1, 1, 1, 1, 1, 1, 1, 1, 1, 1, 1, 1, 1, 1, 1, 1, 1, 1, 1, 1, 1, 1, 1, 1, 1, 1, 1, 1, 1, 1, 1, 1, 1, 1, 1, 1, 1, 1, 1, 1, 1, 1, 1, 1, 1, 1, 1, 1, 1, 1, 1, 1, 1, 1, 1, 1, 1, 1, 1, 1, 1, 1, 1, 1, 1, 1, 1, 1, 1, 1, 1, 1, 1, 1, 1, 1, 1, 1, 1, 1, 1, 1, 1, 1, 1, 1, 1, 1, 1, 1, 1, 1, 1, 1, 1, 1, 1, 1, 1, 1, 1, 1, 1, 1, 1, 1, 1, 1, 1, 1, 1, 1, 1, 1, 1, 1, 1, 1, 1, 1, 1, 1, 1, 1, 1, 1, 1, 1, 1, 1, 1, 1, 1, 1, 1, 1, 1, 1, 1, 1, 1, 1, 1, 1, 1, 1, 1, 1, 1, 1, 1, 1, 1, 1, 1, 1, 1, 1, 1, 1, 1, 1, 1, 1, 1, 1, 1, 1, 1, 1, 1, 1, 1, 1, 1, 1, 1, 1, 1, 1, 1, 1, 1, 1, 1, 1, 1, 1, 1, 1, 1, 1, 1, 1, 1, 1, 1, 1, 1, 1, 1, 1, 1, 1, 1, 1, 1, 1, 1, 1, 1, 1, 1, 1, 1, 1, 1, 1, 1, 1, 1, 1, 1, 1, 1, 1, 1, 1, 1, 1, 1, 1, 1, 1, 1, 1, 1, 1, 1, 1, 1, 1, 1, 1, 1, 1, 1, 1, 1, 1, 1, 1, 1, 1, 1, 1, 1, 1, 1, 1, 1, 1, 1, 1, 1, 1, 1, 1, 1, 1, 1, 1, 1, 1, 1, 1, 1, 1, 1, 1, 1, 1, 1, 1, 1, 1, 1, 1, 1, 1, 1, 1, 1, 1, 1, 1, 1, 1, 1, 1, 1, 1, 1, 1, 1, 1, 1, 1, 1, 1, 1, 1, 1, 1, 1, 1, 1, 1, 1, 1, 1, 1, 1, 1, 1, 1, 1, 1, 1, 1, 1, 1, 1, 1, 1, 1, 1, 1, 1, 1, 1, 1, 1, 1, 1, 1, 1, 1, 1, 1, 1, 1, 1, 1, 1, 1, 1, 1, 1, 1, 1, 1, 1, 1, 1, 1, 1, 1, 1, 1, 1, 1, 1, 1, 1, 1, 1, 1, 1, 1, 1, 1, 1, 1, 1, 1, 1, 1, 1, 1, 1, 1, 1, 1, 1, 1, 1, 1, 1, 1, 1, 1, 1, 1, 1, 1, 1, 1, 1, 1, 1, 1, 1, 1, 1, 1, 1, 1, 1, 1, 1, 1, 1, 1, 1, 1, 1, 1, 1, 1, 1, 1, 1, 1, 1, 1, 1, 1, 1, 1, 1, 1, 1, 1, 1, 1, 1, 1, 1, 1, 1, 1, 1, 1, 1, 1, 1, 1, 1, 1, 1, 1, 1, 1, 1, 1, 1, 1, 1, 1, 1, 1, 1, 1, 1, 1, 1, 1, 1, 1, 1, 1, 1, 1, 1, 1, 1, 1, 1, 1, 1, 1, 1, 1, 1, 1, 1, 1, 1, 1, 1, 1, 1, 1, 1, 1, 1, 1, 1, 1, 1, 1, 1, 1, 1, 1, 1, 1, 1, 1, 1, 1, 1, 1, 1, 1, 1, 1, 1, 1, 1, 1, 1, 1, 1, 1, 1, 1, 1, 1, 1, 1, 1, 1, 1, 1, 1, 1, 1, 1, 1, 1, 1, 1, 1, 1, 1, 1, 1, 1, 1, 1, 1, 1, 1, 1, 1, 1, 1, 1, 1, 1, 1, 1, 1, 1, 1, 1, 1, 1, 1, 1, 1, 1, 1, 1, 1, 1, 1, 1, 1, 1, 1, 1, 1, 1, 1, 1, 1, 1, 1, 1, 1, 1, 1, 1, 1, 1, 1, 1, 1, 1, 1, 1, 1, 1, 1, 1, 1, 1, 1, 1, 1, 1, 1, 1, 1, 1, 1, 1, 1, 1, 1, 1, 1, 1, 1, 1, 1, 1, 1, 1, 1, 1, 1, 1, 1, 1, 1, 1, 1, 1, 1, 1, 1, 1, 1, 1, 1, 1, 1, 1, 1, 1, 1, 1, 1, 1, 1, 1, 1, 1, 1, 1, 1, 1, 1, 1, 1, 1, 1, 1, 1, 1, 1, 1, 1, 1, 1, 1, 1, 1, 1, 1, 1, 1, 1, 1, 1, 1, 1, 1, 1, 1, 1, 1, 1, 1, 1, 1, 1, 1, 1, 1, 1, 1, 1, 1, 1, 1, 1, 1, 1, 1, 1, 1, 1, 1, 1, 1, 1, 1, 1, 1, 1, 1, 1, 1, 1, 1, 1, 1, 1, 1, 1, 1, 1, 1, 1, 1, 1, 1, 1, 1, 1, 1, 1, 1, 1, 1, 1, 1, 1, 1, 1, 1, 1, 1, 1, 1, 1, 1, 1, 1, 1, 1, 1, 1, 1, 1, 1, 1, 1, 1, 1, 1, 1, 1, 1, 1, 1, 1, 1, 1, 1, 1, 1, 1, 1, 1, 1, 1, 1, 1, 1, 1, 1, 1, 1, 1, 1, 1, 1, 1, 1, 1, 1, 1, 1, 1, 1, 1, 1, 1, 1, 1, 1, 1, 1, 1, 1, 1, 1, 1, 1, 1, 1, 1, 1, 1, 1, 1, 1, 1, 1, 1, 1, 1, 1, 1, 1, 1, 1, 1, 1, 1, 1, 1, 1, 1, 1, 1, 1, 1, 1, 1, 1, 1, 1, 1, 1, 1, 1, 1, 1, 1, 1, 1, 1, 1, 1, 1, 1, 1, 1, 1, 1, 1, 1, 1, 1, 1, 1, 1, 1, 1, 1, 1, 1, 1, 1, 1, 1, 1, 1, 1, 1, 1, 1, 1, 1, 1, 1, 1, 1, 1, 1, 1, 1, 1, 1, 1, 1, 1, 1, 1, 1, 1, 1, 1, 1, 1, 1, 1, 1, 1, 1, 1, 1, 1, 1, 1, 1, 1, 1, 1, 1, 1, 1, 1, 1, 1, 1, 1, 1, 1, 1, 1, 1, 1, 1, 1, 1, 1, 1, 1, 1, 1, 1, 1, 1, 1, 1, 1, 1, 1, 1, 1, 1, 1, 1, 1, 1, 1, 1, 1, 1, 1, 1, 1, 1, 1, 1, 1, 1, 1, 1, 1, 1, 1, 1, 1, 1, 1, 1, 1, 1, 1, 1, 1, 1, 1, 1, 1, 1, 1, 1, 1, 1, 1, 1, 1, 1, 1, 1, 1, 1, 1, 1, 1, 1, 1, 1, 1, 1, 1, 1, 1, 1, 1, 1, 1, 1, 1, 1, 1, 1, 1, 1, 1, 1, 1, 1, 1, 1, 1, 1, 1, 1, 1, 1, 1, 1, 1, 1, 1, 1, 1, 1, 1, 1, 1, 1, 1, 1, 1, 1, 1, 1, 1, 1, 1, 1, 1, 1, 1, 1, 1, 1, 1, 1, 1, 1, 1, 1, 1, 1, 1, 1, 1, 1, 1, 1, 1, 1, 1, 1, 1, 1, 1, 1, 1, 1, 1, 1, 1, 1, 1, 1, 1, 1, 1, 1, 1, 1, 1, 1, 1, 1, 1, 1, 1, 1, 1, 1, 1, 1, 1, 1, 1, 1, 1, 1, 1, 1, 1, 1, 1, 1, 1, 1, 1, 1, 1, 1, 1, 1, 1, 1, 1, 1, 1, 1, 1, 1, 1, 1, 1, 1, 1, 1, 1, 1, 1, 1, 1, 1, 1, 1, 1, 1, 1, 1, 1, 1, 1, 1, 1, 1, 1, 1, 1, 1, 1, 1, 1, 1, 1, 1, 1, 1, 1, 1, 1, 1, 1, 1, 1, 1, 1, 1, 1, 1, 1, 1, 1, 1, 1, 1, 1, 1, 1, 1, 1, 1, 1, 1, 1, 1, 1, 1, 1, 1, 1, 1, 1, 1, 1, 1, 1, 1, 1, 1, 1, 1, 1, 1, 1, 1, 1, 1, 1, 1, 1, 1, 1, 1, 1, 1, 1, 1, 1, 1, 1, 1, 1, 1, 1, 1, 1, 1, 1, 1, 1, 1, 1, 1, 1, 1, 1, 1, 1, 1, 1, 1, 1, 1, 1, 1, 1, 1, 1, 1, 1, 1, 1, 1, 1, 1, 1, 1, 1, 1, 1, 1, 1, 1, 1, 1, 1, 1, 1, 1, 1, 1, 1, 1, 1, 1, 1, 1, 1, 1, 1, 1, 1, 1, 1, 1, 1, 1, 1, 1, 1, 1, 1, 1, 1, 1, 1, 1, 1, 1, 1, 1, 1, 1, 1, 1, 1, 1, 1, 1, 1, 1, 1, 1, 1, 1, 1, 1, 1, 1, 1, 1, 1, 1, 1, 1, 1, 1, 1, 1, 1, 1, 1, 1, 1, 1, 1, 1, 1, 1, 1, 1, 1, 1, 1, 1, 1, 1, 1, 1, 1, 1, 1, 1, 1, 1, 1, 1, 1, 1, 1, 1, 1, 1, 1, 1, 1, 1, 1, 1, 1, 1, 1, 1, 1, 1, 1, 1, 1, 1, 1, 1, 1, 1, 1, 1, 1, 1, 1, 1, 1, 1, 1, 1, 1, 1, 1, 1, 1, 1, 1, 1, 1, 1, 1, 1, 1, 1, 1, 1, 1, 1, 1, 1, 1, 1, 1, 1, 1, 1, 1, 1, 1, 1, 1, 1, 1, 1, 1, 1, 1, 1, 1, 1, 1, 1, 1, 1, 1, 1, 1, 1, 1, 1, 1, 1, 1, 1, 1, 1, 1, 1, 1, 1, 1, 1, 1, 1, 1, 1, 1, 1, 1, 1, 1, 1, 1, 1, 1, 1, 1, 1, 1, 1, 1, 1, 1, 1, 1, 1, 1, 1, 1, 1, 1, 1, 1, 1, 1, 1, 1, 1, 1, 1, 1, 1, 1, 1, 1, 1, 1, 1, 1, 1, 1, 1, 1, 1, 1, 1, 1, 1, 1, 1, 1, 1, 1, 1, 1, 1, 1, 1, 1, 1, 1, 1, 1, 1, 1, 1, 1, 1, 1, 1, 1, 1, 1, 1, 1, 1, 1, 1, 1, 1, 1, 1, 1, 1, 1, 1, 1, 1, 1, 1, 1, 1, 1, 1, 1, 1, 1, 1, 1, 1, 1, 1, 1, 1, 1, 1, 1, 1, 1, 1, 1, 1, 1, 1, 1, 1, 1, 1, 1, 1, 1, 1, 1, 1, 1, 1, 1, 1, 1, 1, 1, 1, 1, 1, 1, 1, 1, 1, 1, 1, 1, 1, 1, 1, 1, 1, 1, 1, 1, 1, 1, 1, 1, 1, 1, 1, 1, 1, 1, 1, 1, 1, 1, 1, 1, 1, 1, 1, 1, 1, 1, 1, 1, 1, 1, 1, 1, 1, 1, 1, 1, 1, 1, 1, 1, 1, 1, 1, 1, 1, 1, 1, 1, 1, 1]\n",
      "[('Isodiametra pulchra@306835', 'Symsagittifera roscoffensis@284582'), ('Echinarachnius parma@296875', 'Strongylocentrotus purpuratus@313517'), ('Isodiametra pulchra@306835', 'Hofstenia miamia@291452', 'Paratomella rubra@308417', 'Symsagittifera roscoffensis@284582'), ('Sclerodactyla briareus@321628', 'Stichopus japonicus@291573'), ('Asterias forbesi@321609', 'Patiria miniata@327719')]\n",
      "[{'Xenacoelomorpha'}, {'Echinodermata'}, {'Xenacoelomorpha'}, {'Echinodermata'}, {'Echinodermata'}]\n"
     ]
    }
   ],
   "source": [
    "l = list(cluster_counts.values())\n",
    "l.sort(reverse=True)\n",
    "print(l)\n",
    "\n",
    "filt = []\n",
    "filt_phyla = []\n",
    "for tup in cluster_counts.keys():\n",
    "    if cluster_counts[tup] > 100:\n",
    "        filt.append(tup)\n",
    "        phyla = set()\n",
    "        for species in tup:\n",
    "            phyla.add(species_dict[species])\n",
    "        filt_phyla.append(phyla)\n",
    "\n",
    "print(filt)\n",
    "print(filt_phyla)\n"
   ]
  },
  {
   "cell_type": "markdown",
   "metadata": {},
   "source": [
    "### Visualize Tree"
   ]
  },
  {
   "cell_type": "code",
   "execution_count": null,
   "metadata": {},
   "outputs": [],
   "source": []
  },
  {
   "cell_type": "markdown",
   "metadata": {},
   "source": [
    "### Trying Linkage Clustering"
   ]
  },
  {
   "cell_type": "code",
   "execution_count": 66,
   "metadata": {},
   "outputs": [],
   "source": [
    "import copy\n",
    "import nose.tools as nt\n",
    "import numpy as np\n",
    "import pandas as pd\n",
    "import matplotlib.pyplot as plt\n",
    "from scipy.special import logsumexp\n",
    "from scipy.stats import norm\n",
    "from scipy.cluster import hierarchy\n",
    "\n"
   ]
  },
  {
   "cell_type": "code",
   "execution_count": 67,
   "metadata": {},
   "outputs": [],
   "source": [
    "def cluster(distances):\n",
    "    distances = copy.deepcopy(distances)\n",
    "    clusters = set(distances.keys())\n",
    "    n = len(clusters)\n",
    "    cluster2idx = { cell : idx for idx, cell in enumerate(clusters) }\n",
    "    idx2cluster = [ cell for cell in clusters ]\n",
    "    Z = np.empty((0, 4), float)\n",
    "    membership = [ set([cluster2idx[cell]]) for cell in clusters ]\n",
    "\n",
    "    while len(clusters) > 1:\n",
    "        dist, c1, c2 = None, None, None\n",
    "        m = float('inf')\n",
    "        for cell_1 in clusters:\n",
    "          for cell_2 in clusters:\n",
    "            if cell_1 != cell_2:\n",
    "              if (distances[cell_1][cell_2] < m or (distances[cell_1][cell_2] == m and (cell_1, cell_2) < (c1, c2))):\n",
    "                m = distances[cell_1][cell_2]\n",
    "                dist = m\n",
    "                c1 = cell_1\n",
    "                c2 = cell_2\n",
    "\n",
    "        idx_c1 = cluster2idx[c1]\n",
    "        idx_c2 = cluster2idx[c2]\n",
    "        new_cluster = str(n + len(Z))\n",
    "        new_cluster_idx = len(idx2cluster)\n",
    "\n",
    "        membership.append( membership[idx_c1] | membership[idx_c2])\n",
    "        Z = np.append(Z,\n",
    "                      np.array([[cluster2idx[c1], cluster2idx[c2], dist, len(membership[new_cluster_idx])]]),\n",
    "                      axis=0)\n",
    "\n",
    "        distances[new_cluster] = {}\n",
    "\n",
    "        for cell in clusters:\n",
    "          if cell != c1 and cell != c2:\n",
    "            distances[new_cluster][cell] = min(distances[c1][cell], distances[c2][cell])\n",
    "            distances[cell][new_cluster] = distances[new_cluster][cell]\n",
    "            del distances[cell][c1]\n",
    "            del distances[cell][c2]\n",
    "        del distances[c1]\n",
    "        del distances[c2]\n",
    "\n",
    "\n",
    "        clusters.add(new_cluster)\n",
    "        cluster2idx[new_cluster] = len(idx2cluster)\n",
    "        idx2cluster.append(new_cluster)\n",
    "\n",
    "        clusters.remove(c1)\n",
    "        clusters.remove(c2)\n",
    "    return Z, idx2cluster[:n]"
   ]
  },
  {
   "cell_type": "code",
   "execution_count": 68,
   "metadata": {},
   "outputs": [],
   "source": [
    "trees = {}\n",
    "genes = list(gene_sequences.keys())\n",
    "for gene in genes:\n",
    "    trees[gene] = cluster(distance_matrices[gene])     "
   ]
  },
  {
   "cell_type": "code",
   "execution_count": 69,
   "metadata": {},
   "outputs": [
    {
     "data": {
      "image/png": "[encoded data removed]",
      "text/plain": [
       "<Figure size 640x480 with 1 Axes>"
      ]
     },
     "metadata": {},
     "output_type": "display_data"
    }
   ],
   "source": [
    "Z, labels = trees[genes[0]]\n",
    "Z[:,2] = Z[:,2] - min(Z[:,2]) + 1\n",
    "lab_phyla = []\n",
    "for i in range(len(labels)):\n",
    "    lab_phyla.append(species_dict[labels[i]])\n",
    "plt.figure()\n",
    "dn = hierarchy.dendrogram(Z, labels=lab_phyla, leaf_rotation=90)\n",
    "plt.show()\n"
   ]
  },
  {
   "cell_type": "code",
   "execution_count": 70,
   "metadata": {},
   "outputs": [],
   "source": [
    "from scipy.cluster import hierarchy\n",
    "def getNewick(node, newick, parentdist, leaf_names):\n",
    "    if node.is_leaf():\n",
    "        return \"%s:%.2f%s\" % (leaf_names[node.id], parentdist - node.dist, newick)\n",
    "    else:\n",
    "        if len(newick) > 0:\n",
    "            newick = \"):%.2f%s\" % (parentdist - node.dist, newick)\n",
    "        else:\n",
    "            newick = \");\"\n",
    "        newick = getNewick(node.get_left(), newick, node.dist, leaf_names)\n",
    "        newick = getNewick(node.get_right(), \",%s\" % (newick), node.dist, leaf_names)\n",
    "        newick = \"(%s\" % (newick)\n",
    "        return newick\n",
    "\n",
    "Newick = {}\n",
    "for gene in genes:\n",
    "      Z, labels = trees[gene]\n",
    "      Z[:,2] = Z[:,2] - min(Z[:,2]) + 1\n",
    "      tree = hierarchy.to_tree(Z,False)\n",
    "      newi = getNewick(tree, \"\", tree.dist, labels)\n",
    "      Newick[gene] = newi"
   ]
  }
 ],
 "metadata": {
  "kernelspec": {
   "display_name": "Python 3",
   "language": "python",
   "name": "python3"
  },
  "language_info": {
   "codemirror_mode": {
    "name": "ipython",
    "version": 3
   },
   "file_extension": ".py",
   "mimetype": "text/x-python",
   "name": "python",
   "nbconvert_exporter": "python",
   "pygments_lexer": "ipython3",
   "version": "3.10.11"
  }
 },
 "nbformat": 4,
 "nbformat_minor": 2
}
